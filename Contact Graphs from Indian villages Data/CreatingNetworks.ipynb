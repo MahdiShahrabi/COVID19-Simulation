{
 "cells": [
  {
   "cell_type": "code",
   "execution_count": 1,
   "metadata": {},
   "outputs": [],
   "source": [
    "import pandas as pd\n",
    "import numpy as np\n",
    "import networkx as nx\n",
    "import glob\n",
    "import os\n",
    "import pickle\n",
    "import matplotlib.pyplot as plt\n",
    "# Printing All Results\n",
    "from IPython.core.interactiveshell import InteractiveShell\n",
    "InteractiveShell.ast_node_interactivity = \"all\""
   ]
  },
  {
   "cell_type": "code",
   "execution_count": 2,
   "metadata": {},
   "outputs": [],
   "source": [
    "############################################################################################################################\n",
    "##########################################       Loading Data        #######################################################\n",
    "############################################################################################################################"
   ]
  },
  {
   "cell_type": "code",
   "execution_count": 5,
   "metadata": {},
   "outputs": [],
   "source": [
    "## Function to read a type of adjency matrixes of Indian villages, and then create a list\n",
    "def adjToGraphlist(name=\"name\"):\n",
    "    \n",
    "    # Location of data\n",
    "    path = r'C:\\Users\\Mahdi\\COVID19-Simulation\\IndianVillagesData\\1. Network Data\\Adjacency Matrices'\n",
    "    all_files = sorted(glob.glob(path + \"/*\"+name+\"*.csv\"),key=os.path.getmtime)\n",
    "\n",
    "\n",
    "    li = []\n",
    "    \n",
    "    # Reading all adjecny matrixes based on the name\n",
    "    for filename in all_files:\n",
    "        df = pd.read_csv(filename, index_col=None, header=None)\n",
    "        li.append(df)\n",
    "    \n",
    "    GraphList=list()\n",
    "    \n",
    "    #Converting each adj to a networkx garph object\n",
    "    for i in range(len(li)):\n",
    "        GraphList.append(nx.from_pandas_adjacency(li[i]))\n",
    "        \n",
    "    return(GraphList)"
   ]
  },
  {
   "cell_type": "code",
   "execution_count": 6,
   "metadata": {},
   "outputs": [],
   "source": [
    "# Name of the different types of the graphs\n",
    "GraphNames = [\"allVillageRelationships\",\"andRelationships\",\n",
    "             \"giveadvice\",\"helpdecision\",\n",
    "             \"keroricecome\",\"keroricego\",\n",
    "             \"borrowmoney\",\"lendmoney\",\n",
    "             \"medic\",\"nonrel\",\n",
    "             \"rel\",\"templecompany\",\n",
    "             \"visitcome\",\"visitgo\"]"
   ]
  },
  {
   "cell_type": "code",
   "execution_count": 7,
   "metadata": {},
   "outputs": [
    {
     "name": "stdout",
     "output_type": "stream",
     "text": [
      "allVillageRelationships\n",
      "andRelationships\n",
      "giveadvice\n",
      "helpdecision\n",
      "keroricecome\n",
      "keroricego\n",
      "borrowmoney\n",
      "lendmoney\n",
      "medic\n",
      "nonrel\n",
      "rel\n",
      "templecompany\n",
      "visitcome\n",
      "visitgo\n",
      "Wall time: 1min 59s\n"
     ]
    }
   ],
   "source": [
    "%%time\n",
    "## Location to save graphs\n",
    "path=r\"C:\\Users\\Mahdi\\COVID19-Simulation\\CreatingGraphs-IndianVillages\\Graphs/\"\n",
    "\n",
    "## Creating a graphlist for each graph name and then save that\n",
    "for name in GraphNames:\n",
    "    print(name)\n",
    "    x = adjToGraphlist(name)\n",
    "    with open(path+name+\"_Graphs\", 'wb') as fp:\n",
    "        pickle.dump(x, fp) "
   ]
  },
  {
   "cell_type": "code",
   "execution_count": 8,
   "metadata": {},
   "outputs": [
    {
     "name": "stdout",
     "output_type": "stream",
     "text": [
      "Wall time: 1.48 s\n"
     ]
    }
   ],
   "source": [
    "%%time\n",
    "## Reading Graphs\n",
    "path=r'C:\\Users\\Mahdi\\COVID19-Simulation\\CreatingGraphs-IndianVillages\\Graphs/'\n",
    "\n",
    "with open(path+\"allVillageRelationships_Graphs\", 'rb') as fp:\n",
    "    ALL=pickle.load(fp)\n",
    "    \n",
    "with open(path+\"andRelationships_Graphs\", 'rb') as fp:\n",
    "    AND=pickle.load(fp)\n",
    "    \n",
    "with open(path+\"giveadvice_Graphs\", 'rb') as fp:\n",
    "    giveadvice=pickle.load(fp)\n",
    "    \n",
    "with open(path+\"helpdecision_Graphs\", 'rb') as fp:\n",
    "    helpdecision=pickle.load(fp)\n",
    "    \n",
    "with open(path+\"keroricecome_Graphs\", 'rb') as fp:\n",
    "    keroricecome=pickle.load(fp)\n",
    "    \n",
    "with open(path+\"keroricego_Graphs\", 'rb') as fp:\n",
    "    keroricego=pickle.load(fp)\n",
    "    \n",
    "with open(path+\"borrowmoney_Graphs\", 'rb') as fp:\n",
    "    borrowmoney=pickle.load(fp)\n",
    "    \n",
    "with open(path+\"lendmoney_Graphs\", 'rb') as fp:\n",
    "    lendmoney=pickle.load(fp)\n",
    "    \n",
    "with open(path+\"medic_Graphs\", 'rb') as fp:\n",
    "    medic=pickle.load(fp)\n",
    "    \n",
    "with open(path+\"nonrel_Graphs\", 'rb') as fp:\n",
    "    nonrel=pickle.load(fp)\n",
    "    \n",
    "with open(path+\"rel_Graphs\", 'rb') as fp:\n",
    "    rel=pickle.load(fp)\n",
    "    \n",
    "with open(path+\"templecompany_Graphs\", 'rb') as fp:\n",
    "    templecompany=pickle.load(fp)\n",
    "    \n",
    "with open(path+\"visitcome_Graphs\", 'rb') as fp:\n",
    "    visitcome=pickle.load(fp)\n",
    "    \n",
    "with open(path+\"visitgo_Graphs\", 'rb') as fp:\n",
    "    visitgo=pickle.load(fp)"
   ]
  },
  {
   "cell_type": "code",
   "execution_count": 9,
   "metadata": {},
   "outputs": [
    {
     "name": "stdout",
     "output_type": "stream",
     "text": [
      "Wall time: 2.32 s\n"
     ]
    }
   ],
   "source": [
    "%%time\n",
    "## Composing Graphs for different kind of graphs and the set the weight and lebel attribute\n",
    "\n",
    "Money_Graph = list()\n",
    "for i in range(75):\n",
    "    U = nx.compose(lendmoney[i],borrowmoney[i])\n",
    "    for (u, v) in U.edges():\n",
    "        U[u][v]['weight']=1\n",
    "        U[u][v]['label']=\"Money\"\n",
    "    Money_Graph.append(U)\n",
    "    \n",
    "    \n",
    "    \n",
    "Visit_Graph = list()\n",
    "for i in range(75):\n",
    "    U = nx.compose(visitcome[i],visitgo[i])\n",
    "    for (u, v) in U.edges():\n",
    "        U[u][v]['weight']=1\n",
    "        U[u][v]['label']=\"Visit\"\n",
    "    Visit_Graph.append(U)\n",
    "    \n",
    "    \n",
    "    \n",
    "Kerosene_Graph = list()\n",
    "for i in range(75):\n",
    "    U = nx.compose(keroricecome[i],keroricego[i])\n",
    "    for (u, v) in U.edges():\n",
    "        U[u][v]['weight']=1\n",
    "        U[u][v]['label']=\"Kerosene\"\n",
    "    Kerosene_Graph.append(U)\n",
    "    \n",
    "    \n",
    "    \n",
    "Temple_Graph = list()\n",
    "for i in range(75):\n",
    "    U = templecompany[i]\n",
    "    for (u, v) in U.edges():\n",
    "        U[u][v]['weight']=1\n",
    "        U[u][v]['label']=\"Temple\"\n",
    "    Temple_Graph.append(U)"
   ]
  },
  {
   "cell_type": "code",
   "execution_count": 10,
   "metadata": {},
   "outputs": [
    {
     "name": "stdout",
     "output_type": "stream",
     "text": [
      "Wall time: 2.64 s\n"
     ]
    }
   ],
   "source": [
    "%%time\n",
    "## Creating Multigraph\n",
    "GraphList = list()\n",
    "for i in range(75):\n",
    "    G = nx.MultiGraph()\n",
    "    G.add_edges_from(Money_Graph[i].edges(data=True))\n",
    "    G.add_edges_from(Visit_Graph[i].edges(data=True))\n",
    "    G.add_edges_from(Kerosene_Graph[i].edges(data=True))\n",
    "    G.add_edges_from(Temple_Graph[i].edges(data=True))\n",
    "    G.add_nodes_from(Money_Graph[i].nodes())\n",
    "    \n",
    "    # For normalizing centrality attribute\n",
    "    lng = len(G.nodes()) - 1\n",
    "    \n",
    "    # Normalizing centrality attribute (from fraction to integer)\n",
    "    Money_DegCen = nx.degree_centrality(Money_Graph[i])\n",
    "    Money_DegCen.update((x , int(y*lng))for x, y in Money_DegCen.items())\n",
    "    # Setting attributes for each node\n",
    "    nx.set_node_attributes(G, Money_DegCen, 'Money_DegCen')\n",
    "    \n",
    "    Visit_DegCen = nx.degree_centrality(Visit_Graph[i])\n",
    "    Visit_DegCen.update((x , int(y*lng))for x, y in Visit_DegCen.items())\n",
    "    nx.set_node_attributes(G, Visit_DegCen, 'Visit_DegCen')\n",
    "    \n",
    "    Kerosene_DegCen = nx.degree_centrality(Kerosene_Graph[i])\n",
    "    Kerosene_DegCen.update((x , int(y*lng))for x, y in Kerosene_DegCen.items())\n",
    "    nx.set_node_attributes(G, Kerosene_DegCen, 'Kerosene_DegCen')\n",
    "    \n",
    "    Temple_DegCen = nx.degree_centrality(Temple_Graph[i])\n",
    "    Temple_DegCen.update((x , int(y*lng))for x, y in Temple_DegCen.items())\n",
    "    nx.set_node_attributes(G, Temple_DegCen, 'Temple_DegCen')\n",
    "    \n",
    "    GraphList.append(G)\n",
    "\n",
    "# Saving Multigraph\n",
    "path=r'C:\\Users\\Mahdi\\COVID19-Simulation\\CreatingGraphs-IndianVillages\\Results/'\n",
    "with open(path+\"GraphList_Multi\", 'wb') as fp:\n",
    "    pickle.dump(GraphList, fp) "
   ]
  },
  {
   "cell_type": "code",
   "execution_count": 9,
   "metadata": {},
   "outputs": [],
   "source": [
    "## Creating the transimmsion graph based on the multigraph to run the simulatin on\n",
    "def TransmissionGraph(Data=GraphList,Labels=[\"Money\",\"Visit\",\"Kerosene\",\"Temple\"],P=[0.2,0.3,0.1,0.25],\n",
    "                 dropEdge=\"\",dropNode=\"\",dropTop=0):\n",
    "        \n",
    "        # Initilizing output \n",
    "        out = list()\n",
    "        # For every Graph in GraphList\n",
    "        for G in Data:\n",
    "            if len(dropNode)!=0:\n",
    "                ############# Filtering Nodes #############\n",
    "                # A dictionary of the node and the specific characteristics by which we want to filter\n",
    "                listNodeAttr = nx.get_node_attributes(G,name=dropNode)\n",
    "                # Find the threshold for that characteristics. Edges from a node with larger char, will drop.\n",
    "                threshold = np.percentile(list(listNodeAttr.values()),100-dropTop)\n",
    "                # List of nodes that must be quarantined!\n",
    "                DropList = [k for k,v in listNodeAttr.items() if v>threshold ]\n",
    "                # Removing edges from that node. Quarantining!\n",
    "                for node in DropList:\n",
    "                    edgelist = list(G.edges(node))\n",
    "                    G.remove_edges_from(edgelist)\n",
    "\n",
    "            \n",
    "            ########### Filtering Edges #############\n",
    "            if len(dropEdge)!=0:\n",
    "                # Iterating over all edges\n",
    "                for u,v,key,atrr in list(G.edges(data=True,keys=True)):\n",
    "                    # If the edge has a attribute which is in dropEdge list:\n",
    "                    if (atrr['label'] in  dropEdge) :\n",
    "                        # We remove that edge\n",
    "                        G.remove_edge(u,v,key=key)\n",
    "\n",
    "  \n",
    "            ############# Correcting the weights of Edges #############\n",
    "            for u,v,key,atrr in list(G.edges(data=True,keys=True)):\n",
    "                # Finding location of leble in list --> finding p\n",
    "                weight = P[Labels.index(atrr['label'])]\n",
    "                # changing the weight\n",
    "                G[u][v][key]['weight'] = weight\n",
    "                \n",
    "     \n",
    "            ############# Calculating overall transmission probability #############\n",
    "            # Iterating over each two nodes that there is at least 1 edge between\n",
    "            for (u,v) in list(set(G.edges())):\n",
    "                # Keys : number of edges between this two nodes\n",
    "                keys = list(G.get_edge_data(u,v).keys())\n",
    "                # 1 - Transimision probability : each element for one edge\n",
    "                noTransProb = [(1-G[u][v][i]['weight']) for i in keys]\n",
    "                # The probability that at least one of the edges infects other people\n",
    "                newWeight = np.round(1-np.prod(noTransProb),3)\n",
    "                # Removind old edges: key by key\n",
    "                for i in keys:\n",
    "                    G.remove_edge(u,v,key=i)\n",
    "                # Add new edge, which weight shows the transmission probability\n",
    "                G.add_edges_from([(u,v)],weight=newWeight)\n",
    "                \n",
    "                \n",
    "                \n",
    "            # Appending modified Graph    \n",
    "            out.append(nx.Graph(G))\n",
    "        \n",
    "        # Returning output\n",
    "        return(out)"
   ]
  },
  {
   "cell_type": "code",
   "execution_count": 23,
   "metadata": {},
   "outputs": [
    {
     "name": "stdout",
     "output_type": "stream",
     "text": [
      "Wall time: 12 s\n"
     ]
    }
   ],
   "source": [
    "%%time\n",
    "# Copying mulitigraph (Otherwise it's chnaged in the each run)\n",
    "data = [x.copy() for x in GraphList]\n",
    "\n",
    "# Creating the graph with given P and filteration policy\n",
    "temp=TransmissionGraph(Data=data,dropNode=\"Visit_DegCen\",dropTop=10,dropEdge=\"\",\n",
    "                                        Labels=[\"Money\",\"Visit\",\"Kerosene\",\"Temple\"],P=[0.2,0.3,0.1,0.25])\n",
    "\n",
    "# Saving the graph to run simulatin on\n",
    "path=r'C:\\Users\\Mahdi\\COVID19-Simulation\\File 1 - First Try - Mar27\\Results/'\n",
    "with open(path+\"GraphList_DegCen10_V\", 'wb') as fp:\n",
    "    pickle.dump(temp, fp) "
   ]
  },
  {
   "cell_type": "code",
   "execution_count": 21,
   "metadata": {},
   "outputs": [
    {
     "data": {
      "text/plain": [
       "208"
      ]
     },
     "execution_count": 21,
     "metadata": {},
     "output_type": "execute_result"
    },
    {
     "data": {
      "text/plain": [
       "208"
      ]
     },
     "execution_count": 21,
     "metadata": {},
     "output_type": "execute_result"
    },
    {
     "data": {
      "text/plain": [
       "709"
      ]
     },
     "execution_count": 21,
     "metadata": {},
     "output_type": "execute_result"
    },
    {
     "data": {
      "text/plain": [
       "1273"
      ]
     },
     "execution_count": 21,
     "metadata": {},
     "output_type": "execute_result"
    },
    {
     "data": {
      "text/plain": [
       "530"
      ]
     },
     "execution_count": 21,
     "metadata": {},
     "output_type": "execute_result"
    },
    {
     "data": {
      "text/plain": [
       "{'weight': 0.1}"
      ]
     },
     "execution_count": 21,
     "metadata": {},
     "output_type": "execute_result"
    },
    {
     "data": {
      "text/plain": [
       "{0: {'weight': 1, 'label': 'Visit'}, 1: {'weight': 1, 'label': 'Kerosene'}}"
      ]
     },
     "execution_count": 21,
     "metadata": {},
     "output_type": "execute_result"
    }
   ],
   "source": [
    "## Checking the output\n",
    "i=54\n",
    "GraphList[i].number_of_nodes()\n",
    "temp[i].number_of_nodes()\n",
    "\n",
    "\n",
    "len(set(GraphList[i].edges()))\n",
    "len(GraphList[i].edges())\n",
    "temp[i].number_of_edges()\n",
    "\n",
    "\n",
    "u=list(temp[i].edges())[6][0]\n",
    "v=list(temp[i].edges())[6][1]\n",
    "temp[i].get_edge_data(u,v)\n",
    "GraphList[i].get_edge_data(u,v)"
   ]
  },
  {
   "cell_type": "code",
   "execution_count": 47,
   "metadata": {},
   "outputs": [],
   "source": [
    "####################################################################################################################\n",
    "####################################################################################################################\n",
    "####################################################################################################################\n",
    "####################################################################################################################"
   ]
  }
 ],
 "metadata": {
  "kernelspec": {
   "display_name": "Python 3",
   "language": "python",
   "name": "python3"
  },
  "language_info": {
   "codemirror_mode": {
    "name": "ipython",
    "version": 3
   },
   "file_extension": ".py",
   "mimetype": "text/x-python",
   "name": "python",
   "nbconvert_exporter": "python",
   "pygments_lexer": "ipython3",
   "version": "3.7.1"
  }
 },
 "nbformat": 4,
 "nbformat_minor": 4
}
