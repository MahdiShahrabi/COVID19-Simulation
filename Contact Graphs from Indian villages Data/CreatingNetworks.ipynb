{
 "cells": [
  {
   "cell_type": "code",
   "execution_count": 1,
   "metadata": {},
   "outputs": [],
   "source": [
    "import pandas as pd\n",
    "import numpy as np\n",
    "import networkx as nx\n",
    "import glob\n",
    "import os\n",
    "import pickle\n",
    "import matplotlib.pyplot as plt\n",
    "import copy\n",
    "# Printing All Results\n",
    "from IPython.core.interactiveshell import InteractiveShell\n",
    "InteractiveShell.ast_node_interactivity = \"all\""
   ]
  },
  {
   "cell_type": "code",
   "execution_count": 2,
   "metadata": {},
   "outputs": [],
   "source": [
    "from adjToGraphlist import adjToGraphlist\n",
    "from TransmissionGraph import TransmissionGraph"
   ]
  },
  {
   "cell_type": "code",
   "execution_count": 3,
   "metadata": {},
   "outputs": [],
   "source": [
    "############################################################################################################################\n",
    "##########################################       Loading Data        #######################################################\n",
    "############################################################################################################################"
   ]
  },
  {
   "cell_type": "code",
   "execution_count": 4,
   "metadata": {},
   "outputs": [],
   "source": [
    "# Name of the different types of the graphs\n",
    "GraphNames = [\"allVillageRelationships\",\"andRelationships\",\n",
    "             \"giveadvice\",\"helpdecision\",\n",
    "             \"keroricecome\",\"keroricego\",\n",
    "             \"borrowmoney\",\"lendmoney\",\n",
    "             \"medic\",\"nonrel\",\n",
    "             \"rel\",\"templecompany\",\n",
    "             \"visitcome\",\"visitgo\"]"
   ]
  },
  {
   "cell_type": "code",
   "execution_count": 5,
   "metadata": {},
   "outputs": [
    {
     "name": "stdout",
     "output_type": "stream",
     "text": [
      "allVillageRelationships\n",
      "andRelationships\n",
      "giveadvice\n",
      "helpdecision\n",
      "keroricecome\n",
      "keroricego\n",
      "borrowmoney\n",
      "lendmoney\n",
      "medic\n",
      "nonrel\n",
      "rel\n",
      "templecompany\n",
      "visitcome\n",
      "visitgo\n",
      "Wall time: 1min 57s\n"
     ]
    }
   ],
   "source": [
    "%%time\n",
    "## Location to save graphs\n",
    "path_out = r'C:\\Users\\Mahdi\\OneDrive\\Vasserman - Akbarpour\\Data\\Graphs/'\n",
    "path_in = r'C:\\Users\\Mahdi\\OneDrive\\Vasserman - Akbarpour\\Data\\IndianVillagesData/'\n",
    "\n",
    "## Creating a graphlist for each graph name and then save that\n",
    "for name in GraphNames:\n",
    "    print(name)\n",
    "    x = adjToGraphlist(name = name,path=path_in)\n",
    "    with open(path_out+name+\"_Graphs\", 'wb') as fp:\n",
    "        pickle.dump(x, fp) "
   ]
  },
  {
   "cell_type": "code",
   "execution_count": 6,
   "metadata": {},
   "outputs": [
    {
     "name": "stdout",
     "output_type": "stream",
     "text": [
      "Wall time: 1.42 s\n"
     ]
    }
   ],
   "source": [
    "%%time\n",
    "## Reading Graphs\n",
    "path = r'C:\\Users\\Mahdi\\OneDrive\\Vasserman - Akbarpour\\Data\\Graphs/'\n",
    "\n",
    "with open(path+\"allVillageRelationships_Graphs\", 'rb') as fp:\n",
    "    ALL=pickle.load(fp)\n",
    "    \n",
    "with open(path+\"andRelationships_Graphs\", 'rb') as fp:\n",
    "    AND=pickle.load(fp)\n",
    "    \n",
    "with open(path+\"giveadvice_Graphs\", 'rb') as fp:\n",
    "    giveadvice=pickle.load(fp)\n",
    "    \n",
    "with open(path+\"helpdecision_Graphs\", 'rb') as fp:\n",
    "    helpdecision=pickle.load(fp)\n",
    "    \n",
    "with open(path+\"keroricecome_Graphs\", 'rb') as fp:\n",
    "    keroricecome=pickle.load(fp)\n",
    "    \n",
    "with open(path+\"keroricego_Graphs\", 'rb') as fp:\n",
    "    keroricego=pickle.load(fp)\n",
    "    \n",
    "with open(path+\"borrowmoney_Graphs\", 'rb') as fp:\n",
    "    borrowmoney=pickle.load(fp)\n",
    "    \n",
    "with open(path+\"lendmoney_Graphs\", 'rb') as fp:\n",
    "    lendmoney=pickle.load(fp)\n",
    "    \n",
    "with open(path+\"medic_Graphs\", 'rb') as fp:\n",
    "    medic=pickle.load(fp)\n",
    "    \n",
    "with open(path+\"nonrel_Graphs\", 'rb') as fp:\n",
    "    nonrel=pickle.load(fp)\n",
    "    \n",
    "with open(path+\"rel_Graphs\", 'rb') as fp:\n",
    "    rel=pickle.load(fp)\n",
    "    \n",
    "with open(path+\"templecompany_Graphs\", 'rb') as fp:\n",
    "    templecompany=pickle.load(fp)\n",
    "    \n",
    "with open(path+\"visitcome_Graphs\", 'rb') as fp:\n",
    "    visitcome=pickle.load(fp)\n",
    "    \n",
    "with open(path+\"visitgo_Graphs\", 'rb') as fp:\n",
    "    visitgo=pickle.load(fp)"
   ]
  },
  {
   "cell_type": "code",
   "execution_count": 7,
   "metadata": {},
   "outputs": [
    {
     "name": "stdout",
     "output_type": "stream",
     "text": [
      "Wall time: 2.61 s\n"
     ]
    }
   ],
   "source": [
    "%%time\n",
    "## Composing Graphs for different kind of graphs and the set the weight and lebel attribute\n",
    "\n",
    "Money_Graph = list()\n",
    "for i in range(75):\n",
    "    U = nx.compose(lendmoney[i],borrowmoney[i])\n",
    "    for (u, v) in U.edges():\n",
    "        U[u][v]['weight']=1\n",
    "        U[u][v]['label']=\"Money\"\n",
    "    Money_Graph.append(U)\n",
    "    \n",
    "    \n",
    "    \n",
    "Visit_Graph = list()\n",
    "for i in range(75):\n",
    "    U = nx.compose(visitcome[i],visitgo[i])\n",
    "    for (u, v) in U.edges():\n",
    "        U[u][v]['weight']=1\n",
    "        U[u][v]['label']=\"Visit\"\n",
    "    Visit_Graph.append(U)\n",
    "    \n",
    "    \n",
    "    \n",
    "Kerosene_Graph = list()\n",
    "for i in range(75):\n",
    "    U = nx.compose(keroricecome[i],keroricego[i])\n",
    "    for (u, v) in U.edges():\n",
    "        U[u][v]['weight']=1\n",
    "        U[u][v]['label']=\"Kerosene\"\n",
    "    Kerosene_Graph.append(U)\n",
    "    \n",
    "    \n",
    "    \n",
    "Temple_Graph = list()\n",
    "for i in range(75):\n",
    "    U = templecompany[i]\n",
    "    for (u, v) in U.edges():\n",
    "        U[u][v]['weight']=1\n",
    "        U[u][v]['label']=\"Temple\"\n",
    "    Temple_Graph.append(U)"
   ]
  },
  {
   "cell_type": "code",
   "execution_count": 8,
   "metadata": {},
   "outputs": [
    {
     "name": "stdout",
     "output_type": "stream",
     "text": [
      "Wall time: 2.83 s\n"
     ]
    }
   ],
   "source": [
    "%%time\n",
    "## Creating Multigraph\n",
    "GraphList = list()\n",
    "for i in range(75):\n",
    "    G = nx.MultiGraph()\n",
    "    G.add_edges_from(Money_Graph[i].edges(data=True))\n",
    "    G.add_edges_from(Visit_Graph[i].edges(data=True))\n",
    "    G.add_edges_from(Kerosene_Graph[i].edges(data=True))\n",
    "    G.add_edges_from(Temple_Graph[i].edges(data=True))\n",
    "    G.add_nodes_from(Money_Graph[i].nodes())\n",
    "    \n",
    "    # For normalizing centrality attribute\n",
    "    lng = len(G.nodes()) - 1\n",
    "    \n",
    "    # Normalizing centrality attribute (from fraction to integer)\n",
    "    Money_DegCen = nx.degree_centrality(Money_Graph[i])\n",
    "    Money_DegCen.update((x , int(y*lng))for x, y in Money_DegCen.items())\n",
    "    # Setting attributes for each node\n",
    "    nx.set_node_attributes(G, Money_DegCen, 'Money_DegCen')\n",
    "    \n",
    "    Visit_DegCen = nx.degree_centrality(Visit_Graph[i])\n",
    "    Visit_DegCen.update((x , int(y*lng))for x, y in Visit_DegCen.items())\n",
    "    nx.set_node_attributes(G, Visit_DegCen, 'Visit_DegCen')\n",
    "    \n",
    "    Kerosene_DegCen = nx.degree_centrality(Kerosene_Graph[i])\n",
    "    Kerosene_DegCen.update((x , int(y*lng))for x, y in Kerosene_DegCen.items())\n",
    "    nx.set_node_attributes(G, Kerosene_DegCen, 'Kerosene_DegCen')\n",
    "    \n",
    "    Temple_DegCen = nx.degree_centrality(Temple_Graph[i])\n",
    "    Temple_DegCen.update((x , int(y*lng))for x, y in Temple_DegCen.items())\n",
    "    nx.set_node_attributes(G, Temple_DegCen, 'Temple_DegCen')\n",
    "    \n",
    "    GraphList.append(G)\n",
    "\n",
    "# Saving Multigraph\n",
    "path=r'C:\\Users\\Mahdi\\OneDrive\\Vasserman - Akbarpour\\Data\\ResultMultigraphs/'\n",
    "with open(path+\"GraphList_Multi\", 'wb') as fp:\n",
    "    pickle.dump(GraphList, fp) "
   ]
  },
  {
   "cell_type": "code",
   "execution_count": 83,
   "metadata": {},
   "outputs": [],
   "source": [
    "#######################################    Load from here!    #####################################"
   ]
  },
  {
   "cell_type": "code",
   "execution_count": 9,
   "metadata": {},
   "outputs": [],
   "source": [
    "path=r'C:\\Users\\Mahdi\\OneDrive\\Vasserman - Akbarpour\\Data\\ResultMultigraphs/'\n",
    "with open(path+\"GraphList_Multi\", 'rb') as fp:\n",
    "    GraphList = pickle.load(fp) "
   ]
  },
  {
   "cell_type": "code",
   "execution_count": 12,
   "metadata": {},
   "outputs": [
    {
     "name": "stdout",
     "output_type": "stream",
     "text": [
      "Wall time: 13.7 s\n"
     ]
    }
   ],
   "source": [
    "%%time\n",
    "Dict = {\"Money\":0.3,\"Visit\":0,\"Kerosene\":0.1,\"Temple\":0.25}\n",
    "# Copying mulitigraph (Otherwise it's chnaged in the each run)\n",
    "data = [x.copy() for x in GraphList]\n",
    "\n",
    "# Creating the graph with given P and filteration policy\n",
    "temp=TransmissionGraph(Data=data,dropNode='',dropTop=0,Label_dict = Dict)\n",
    "\n",
    "# Saving the graph to run simulatin on\n",
    "path=r'C:\\Users\\Mahdi\\OneDrive\\Vasserman - Akbarpour\\Data\\ResultsFilteredGraphs/'\n",
    "with open(path+\"GraphList_Drop_V\", 'wb') as fp:\n",
    "    pickle.dump(temp, fp) "
   ]
  },
  {
   "cell_type": "code",
   "execution_count": 14,
   "metadata": {},
   "outputs": [
    {
     "name": "stdout",
     "output_type": "stream",
     "text": [
      "number of nodes: before=121, after=121\n",
      "number of edges: before=446, before_multi=895, after=352\n"
     ]
    },
    {
     "data": {
      "text/plain": [
       "{'weight': 0.3}"
      ]
     },
     "execution_count": 14,
     "metadata": {},
     "output_type": "execute_result"
    },
    {
     "data": {
      "text/plain": [
       "{0: {'weight': 1, 'label': 'Money'}, 1: {'weight': 1, 'label': 'Visit'}}"
      ]
     },
     "execution_count": 14,
     "metadata": {},
     "output_type": "execute_result"
    },
    {
     "data": {
      "text/plain": [
       "{'Money': 0.3, 'Visit': 0, 'Kerosene': 0.1, 'Temple': 0.25}"
      ]
     },
     "execution_count": 14,
     "metadata": {},
     "output_type": "execute_result"
    }
   ],
   "source": [
    "## Checking the output\n",
    "i=34\n",
    "print('number of nodes: before={}, after={}'.format(GraphList[i].number_of_nodes(),temp[i].number_of_nodes()))\n",
    "print('number of edges: before={}, before_multi={}, after={}'.format(len(set(GraphList[i].edges())),\n",
    "                                                len(GraphList[i].edges()),temp[i].number_of_edges()))\n",
    "\n",
    "\n",
    "u=list(temp[i].edges())[6][0]\n",
    "v=list(temp[i].edges())[6][1]\n",
    "temp[i].get_edge_data(u,v)\n",
    "GraphList[i].get_edge_data(u,v)\n",
    "Dict"
   ]
  },
  {
   "cell_type": "code",
   "execution_count": null,
   "metadata": {},
   "outputs": [],
   "source": []
  }
 ],
 "metadata": {
  "kernelspec": {
   "display_name": "Python 3",
   "language": "python",
   "name": "python3"
  },
  "language_info": {
   "codemirror_mode": {
    "name": "ipython",
    "version": 3
   },
   "file_extension": ".py",
   "mimetype": "text/x-python",
   "name": "python",
   "nbconvert_exporter": "python",
   "pygments_lexer": "ipython3",
   "version": "3.7.6"
  }
 },
 "nbformat": 4,
 "nbformat_minor": 4
}
