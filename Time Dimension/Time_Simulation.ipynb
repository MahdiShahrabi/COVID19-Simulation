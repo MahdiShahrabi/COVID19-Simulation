{
 "cells": [
  {
   "cell_type": "code",
   "execution_count": 1,
   "metadata": {
    "colab": {},
    "colab_type": "code",
    "id": "SQex1-GpElvo"
   },
   "outputs": [],
   "source": [
    "## Loading Libraries\n",
    "import pandas as pd\n",
    "import numpy as np\n",
    "import networkx as nx\n",
    "from random import uniform\n",
    "import random\n",
    "from copy import deepcopy\n",
    "import warnings\n",
    "import pickle\n",
    "import datetime\n",
    "from time import gmtime, strftime\n",
    "import pytz\n",
    "import winsound\n",
    "import time\n",
    "\n",
    "# import power_index_calculator as px\n",
    "from IPython.core.interactiveshell import InteractiveShell\n",
    "InteractiveShell.ast_node_interactivity = \"all\""
   ]
  },
  {
   "cell_type": "code",
   "execution_count": 2,
   "metadata": {
    "colab": {},
    "colab_type": "code",
    "id": "4vsTyPwoElwe"
   },
   "outputs": [],
   "source": [
    "from generateRandSeed import generateRandSeed\n",
    "from plot_simulation_output import plot_simulation_output\n",
    "from TimePolicy_generator import TimePolicy_generator\n",
    "from Simulate_SIR_Time import Simulate_SIR_Time"
   ]
  },
  {
   "cell_type": "code",
   "execution_count": 3,
   "metadata": {},
   "outputs": [],
   "source": [
    "with open('FaceBookGraph','rb') as f:\n",
    "    FB_Graph = pickle.load(f)"
   ]
  },
  {
   "cell_type": "markdown",
   "metadata": {
    "colab_type": "text",
    "id": "S2o550p0l5OL"
   },
   "source": [
    "# **Run Your Simulation**\n",
    "\n",
    "In the below example, we create an Erdos-Renyi graph and we run the simulation and plot the outputs."
   ]
  },
  {
   "cell_type": "code",
   "execution_count": 4,
   "metadata": {
    "colab": {
     "base_uri": "https://localhost:8080/",
     "height": 436
    },
    "colab_type": "code",
    "id": "KWQGlDXdElxE",
    "outputId": "5ab57b09-525b-46fc-f6c3-25347b305317"
   },
   "outputs": [
    {
     "name": "stdout",
     "output_type": "stream",
     "text": [
      "The Peak is 0.937, and the Cascade is 1.000, and Peak_int is 2\n"
     ]
    },
    {
     "data": {
      "image/png": "[encoded data removed]",
      "text/plain": [
       "<Figure size 720x360 with 1 Axes>"
      ]
     },
     "metadata": {
      "needs_background": "light"
     },
     "output_type": "display_data"
    },
    {
     "name": "stdout",
     "output_type": "stream",
     "text": [
      "Wall time: 1.68 s\n"
     ]
    },
    {
     "data": {
      "text/plain": [
       "()"
      ]
     },
     "execution_count": 4,
     "metadata": {},
     "output_type": "execute_result"
    }
   ],
   "source": [
    "%%time\n",
    "# Example\n",
    "n = 1000\n",
    "d = 40\n",
    "c = 0.6\n",
    "G = nx.erdos_renyi_graph(n,d/n)\n",
    "# G = deepcopy(FB_Graph)\n",
    "edge_weight = dict(zip(G.edges(),[c for x in range(len(G.edges()))]))\n",
    "nx.set_edge_attributes(G,edge_weight,'weight')\n",
    "\n",
    "method = 'Transmission'\n",
    "out = Simulate_SIR_Time (deepcopy(G),Maximum_Time=1000,\n",
    "                       Seasons=[50,100,150,200],P_seasons = [1,1,1,1],\n",
    "                       Seeds = generateRandSeed(2,G), \n",
    "                       n_dr=1, q_die=0.2, n_exposed=0,q_symptotic=0, q_s=0.5,\n",
    "                       how='Transmission',\n",
    "                       time_policy={'mode':'stochastic','stochastic':{'p':1},\n",
    "                                    'deterministic':{'group_num':2,'method':'divide'}},\n",
    "                       pnt=False)\n",
    "\n",
    "print('The Peak is {:0.3f}, and the Cascade is {:0.3f}, and Peak_int is {}'.format(\n",
    "    out['Peak'],out['Cascade'],out['Peak_int']))\n",
    "plot_simulation_output(Graphsize=G.number_of_nodes(),data = out,module=['Infected','Died'])"
   ]
  },
  {
   "cell_type": "code",
   "execution_count": 5,
   "metadata": {},
   "outputs": [
    {
     "name": "stdout",
     "output_type": "stream",
     "text": [
      "\n",
      "0 from 30\n",
      "Current time is: \n",
      "17:57:34\n"
     ]
    },
    {
     "ename": "KeyboardInterrupt",
     "evalue": "",
     "output_type": "error",
     "traceback": [
      "\u001b[1;31m---------------------------------------------------------------------------\u001b[0m",
      "\u001b[1;31mKeyboardInterrupt\u001b[0m                         Traceback (most recent call last)",
      "\u001b[1;32m<timed exec>\u001b[0m in \u001b[0;36m<module>\u001b[1;34m\u001b[0m\n",
      "\u001b[1;32m<decorator-gen-698>\u001b[0m in \u001b[0;36mgnp_random_graph\u001b[1;34m(n, p, seed, directed)\u001b[0m\n",
      "\u001b[1;32m~\\Anaconda3\\lib\\site-packages\\networkx\\utils\\decorators.py\u001b[0m in \u001b[0;36m_random_state\u001b[1;34m(func, *args, **kwargs)\u001b[0m\n\u001b[0;32m    462\u001b[0m         \u001b[0mnew_args\u001b[0m \u001b[1;33m=\u001b[0m \u001b[0mlist\u001b[0m\u001b[1;33m(\u001b[0m\u001b[0margs\u001b[0m\u001b[1;33m)\u001b[0m\u001b[1;33m\u001b[0m\u001b[1;33m\u001b[0m\u001b[0m\n\u001b[0;32m    463\u001b[0m         \u001b[0mnew_args\u001b[0m\u001b[1;33m[\u001b[0m\u001b[0mrandom_state_index\u001b[0m\u001b[1;33m]\u001b[0m \u001b[1;33m=\u001b[0m \u001b[0mrandom_state\u001b[0m\u001b[1;33m\u001b[0m\u001b[1;33m\u001b[0m\u001b[0m\n\u001b[1;32m--> 464\u001b[1;33m         \u001b[1;32mreturn\u001b[0m \u001b[0mfunc\u001b[0m\u001b[1;33m(\u001b[0m\u001b[1;33m*\u001b[0m\u001b[0mnew_args\u001b[0m\u001b[1;33m,\u001b[0m \u001b[1;33m**\u001b[0m\u001b[0mkwargs\u001b[0m\u001b[1;33m)\u001b[0m\u001b[1;33m\u001b[0m\u001b[1;33m\u001b[0m\u001b[0m\n\u001b[0m\u001b[0;32m    465\u001b[0m     \u001b[1;32mreturn\u001b[0m \u001b[0m_random_state\u001b[0m\u001b[1;33m\u001b[0m\u001b[1;33m\u001b[0m\u001b[0m\n",
      "\u001b[1;32m~\\Anaconda3\\lib\\site-packages\\networkx\\generators\\random_graphs.py\u001b[0m in \u001b[0;36mgnp_random_graph\u001b[1;34m(n, p, seed, directed)\u001b[0m\n\u001b[0;32m    170\u001b[0m \u001b[1;33m\u001b[0m\u001b[0m\n\u001b[0;32m    171\u001b[0m     \u001b[1;32mfor\u001b[0m \u001b[0me\u001b[0m \u001b[1;32min\u001b[0m \u001b[0medges\u001b[0m\u001b[1;33m:\u001b[0m\u001b[1;33m\u001b[0m\u001b[1;33m\u001b[0m\u001b[0m\n\u001b[1;32m--> 172\u001b[1;33m         \u001b[1;32mif\u001b[0m \u001b[0mseed\u001b[0m\u001b[1;33m.\u001b[0m\u001b[0mrandom\u001b[0m\u001b[1;33m(\u001b[0m\u001b[1;33m)\u001b[0m \u001b[1;33m<\u001b[0m \u001b[0mp\u001b[0m\u001b[1;33m:\u001b[0m\u001b[1;33m\u001b[0m\u001b[1;33m\u001b[0m\u001b[0m\n\u001b[0m\u001b[0;32m    173\u001b[0m             \u001b[0mG\u001b[0m\u001b[1;33m.\u001b[0m\u001b[0madd_edge\u001b[0m\u001b[1;33m(\u001b[0m\u001b[1;33m*\u001b[0m\u001b[0me\u001b[0m\u001b[1;33m)\u001b[0m\u001b[1;33m\u001b[0m\u001b[1;33m\u001b[0m\u001b[0m\n\u001b[0;32m    174\u001b[0m     \u001b[1;32mreturn\u001b[0m \u001b[0mG\u001b[0m\u001b[1;33m\u001b[0m\u001b[1;33m\u001b[0m\u001b[0m\n",
      "\u001b[1;31mKeyboardInterrupt\u001b[0m: "
     ]
    }
   ],
   "source": [
    "%%time\n",
    "OUT_dic = {}\n",
    "Sim_count = 0\n",
    "# SEEDS_NUMBER = list(np.arange(1,30,5)) + list(np.arange(30,150,10))\n",
    "Cs = list(np.arange(0.001,0.02,0.001))+ list(np.arange(0.02,0.1,0.01)) + list(np.arange(0.1,0.5,0.1))\n",
    "# N = [2000,4000]\n",
    "# Seed = [20,40]\n",
    "for c in Cs:\n",
    "    \n",
    "    for i in range(1):\n",
    "        duration = 500  # milliseconds\n",
    "        freq = 440  # Hz\n",
    "        winsound.Beep(freq, duration)\n",
    "\n",
    "    \n",
    "    OUT = {'deter':{'Cascade':list(),'Peak':list(),'Peak_int':list()},\n",
    "           'stoch':{'Cascade':list(),'Peak':list(),'Peak_int':list()}}\n",
    "    n = 1000\n",
    "    d = 10\n",
    "    c= c\n",
    "    number_seed = 20\n",
    "    repeat = 30\n",
    "    for i in range(repeat):\n",
    "        if i%15==0:\n",
    "            now = datetime.datetime.now() \n",
    "            print (\"\\n{} from {}\\nCurrent time is: \".format(i,repeat))\n",
    "            print (now.strftime(\"%H:%M:%S\"))\n",
    "\n",
    "        G = nx.erdos_renyi_graph(n,d/n)\n",
    "    #     G = deepcopy(FB_Graph)\n",
    "        edge_weight = dict(zip(G.edges(),[c for x in range(len(G.edges()))]))\n",
    "        nx.set_edge_attributes(G,edge_weight,'weight')\n",
    "\n",
    "\n",
    "#         out = Simulate_SIR_Time(deepcopy(G),Maximum_Time=1000,\n",
    "#                            Seasons=[50,100,150,200],P_seasons = [1,1,1,1],\n",
    "#                            Seeds = generateRandSeed(number_seed,G), \n",
    "#                            n_dr=17, q_die=0.2, n_exposed=3,q_symptotic=0.5, q_s=0.1,\n",
    "#                            how='Transmission',\n",
    "#                            time_policy={'mode':'deterministic','stochastic':{'p':0.5},\n",
    "#                                         'deterministic':{'group_num':2,'method':'divide'}},\n",
    "#                            pnt=False)\n",
    "#         OUT['deter']['Cascade'].append(out['Cascade'])\n",
    "#         OUT['deter']['Peak'].append(out['Peak'])\n",
    "#         OUT['deter']['Peak_int'].append(out['Peak_int'])\n",
    "\n",
    "        OUT['deter']['Cascade'].append(0)\n",
    "        OUT['deter']['Peak'].append(0)\n",
    "        OUT['deter']['Peak_int'].append(0)\n",
    "\n",
    "        out = Simulate_SIR_Time(deepcopy(G),Maximum_Time=1000,\n",
    "                           Seasons=[50,100,150,200],P_seasons = [1,1,1,1],\n",
    "                           Seeds = generateRandSeed(number_seed,G), \n",
    "                           n_dr=17, q_die=0.2, n_exposed=3,q_symptotic=0.5, q_s=0.1,\n",
    "                           how='Transmission',\n",
    "                           time_policy={'mode':'stochastic','stochastic':{'p':1},\n",
    "                                        'deterministic':{'group_num':2,'method':'stochastic'}},\n",
    "                           pnt=False)\n",
    "        OUT['stoch']['Cascade'].append(out['Cascade'])\n",
    "        OUT['stoch']['Peak'].append(out['Peak'])\n",
    "        OUT['stoch']['Peak_int'].append(out['Peak_int'])\n",
    "\n",
    "    deter = pd.DataFrame(OUT['deter'])\n",
    "    stoch = pd.DataFrame(OUT['stoch'])\n",
    "    \n",
    "    ## Output\n",
    "    Sim_count+=1\n",
    "    OUT_dic['Simulation_'+str(Sim_count)] = {'configs':'n='+str(n)+' d='+str(d)+' c='+str(c)+' seeds='+str(number_seed)+' repeat='+str(repeat),\n",
    "                                             'deter':deter.describe(),'stoc':stoch.describe(),'seed':number_seed,'repeat':repeat,'c':c,'n':n}\n",
    "    \n",
    "    \n",
    "    ## Progress\n",
    "    now = datetime.datetime.now() \n",
    "    print (\"\\n{} from {}\".format(Sim_count,len(Cs)))\n",
    "    print (\"for n={}\\nCurrent time is: \".format(c))\n",
    "    print (now.strftime(\"%H:%M:%S\"))\n",
    "    print (\"*****************************************\\n\")\n",
    "        \n",
    "        \n",
    "        \n",
    "for i in range(3):\n",
    "    time.sleep(0.5)\n",
    "    duration = 500  # milliseconds\n",
    "    freq = 840  # Hz\n",
    "    winsound.Beep(freq, duration)"
   ]
  },
  {
   "cell_type": "code",
   "execution_count": 6,
   "metadata": {},
   "outputs": [
    {
     "data": {
      "text/html": [
       "<div>\n",
       "<style scoped>\n",
       "    .dataframe tbody tr th:only-of-type {\n",
       "        vertical-align: middle;\n",
       "    }\n",
       "\n",
       "    .dataframe tbody tr th {\n",
       "        vertical-align: top;\n",
       "    }\n",
       "\n",
       "    .dataframe thead th {\n",
       "        text-align: right;\n",
       "    }\n",
       "</style>\n",
       "<table border=\"1\" class=\"dataframe\">\n",
       "  <thead>\n",
       "    <tr style=\"text-align: right;\">\n",
       "      <th></th>\n",
       "      <th>c</th>\n",
       "      <th>Cascade</th>\n",
       "    </tr>\n",
       "  </thead>\n",
       "  <tbody>\n",
       "  </tbody>\n",
       "</table>\n",
       "</div>"
      ],
      "text/plain": [
       "Empty DataFrame\n",
       "Columns: [c, Cascade]\n",
       "Index: []"
      ]
     },
     "execution_count": 6,
     "metadata": {},
     "output_type": "execute_result"
    }
   ],
   "source": [
    "out_list = []\n",
    "\n",
    "for k,v in OUT_dic.items():\n",
    "    out_list.append([v['c'],\n",
    "                     v['deter'].loc['mean','Cascade'],\n",
    "                     v['stoc'].loc['mean','Cascade'],\n",
    "                     v['deter'].loc['std','Cascade'],\n",
    "                     v['stoc'].loc['std','Cascade']])\n",
    "\n",
    "out_df = pd.DataFrame(out_list,columns=['c','deter_Cascade','stoc_Cascade','deter_std','stoc_std'])\n",
    "out_df = out_df[['c','stoc_Cascade']].rename(columns={'stoc_Cascade':'Cascade'})\n",
    "# out_df['diff'] = out_df['stoc_Cascade'] - out_df['deter_Cascade']\n",
    "# out_df.to_csv('C_diff.csv')\n",
    "out_df"
   ]
  }
 ],
 "metadata": {
  "colab": {
   "include_colab_link": true,
   "name": "Time_Simulation.ipynb",
   "provenance": []
  },
  "kernelspec": {
   "display_name": "Python 3",
   "language": "python",
   "name": "python3"
  },
  "language_info": {
   "codemirror_mode": {
    "name": "ipython",
    "version": 3
   },
   "file_extension": ".py",
   "mimetype": "text/x-python",
   "name": "python",
   "nbconvert_exporter": "python",
   "pygments_lexer": "ipython3",
   "version": "3.7.6"
  },
  "varInspector": {
   "cols": {
    "lenName": 16,
    "lenType": 16,
    "lenVar": 40
   },
   "kernels_config": {
    "python": {
     "delete_cmd_postfix": "",
     "delete_cmd_prefix": "del ",
     "library": "var_list.py",
     "varRefreshCmd": "print(var_dic_list())"
    },
    "r": {
     "delete_cmd_postfix": ") ",
     "delete_cmd_prefix": "rm(",
     "library": "var_list.r",
     "varRefreshCmd": "cat(var_dic_list()) "
    }
   },
   "types_to_exclude": [
    "module",
    "function",
    "builtin_function_or_method",
    "instance",
    "_Feature"
   ],
   "window_display": false
  }
 },
 "nbformat": 4,
 "nbformat_minor": 4
}
