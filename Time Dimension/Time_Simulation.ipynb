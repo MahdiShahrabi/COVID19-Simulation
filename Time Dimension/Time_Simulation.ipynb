{
  "nbformat": 4,
  "nbformat_minor": 0,
  "metadata": {
    "kernelspec": {
      "display_name": "Python 3",
      "language": "python",
      "name": "python3"
    },
    "language_info": {
      "codemirror_mode": {
        "name": "ipython",
        "version": 3
      },
      "file_extension": ".py",
      "mimetype": "text/x-python",
      "name": "python",
      "nbconvert_exporter": "python",
      "pygments_lexer": "ipython3",
      "version": "3.7.1"
    },
    "colab": {
      "name": "Time_Simulation.ipynb",
      "provenance": [],
      "include_colab_link": true
    }
  },
  "cells": [
    {
      "cell_type": "markdown",
      "metadata": {
        "id": "view-in-github",
        "colab_type": "text"
      },
      "source": [
        "<a href=\"https://colab.research.google.com/github/MahdiShahrabi/COVID19-Simulation/blob/master/Time%20Dimension/Time_Simulation.ipynb\" target=\"_parent\"><img src=\"https://colab.research.google.com/assets/colab-badge.svg\" alt=\"Open In Colab\"/></a>"
      ]
    },
    {
      "cell_type": "code",
      "metadata": {
        "id": "SQex1-GpElvo",
        "colab_type": "code",
        "colab": {}
      },
      "source": [
        "## Loading Libraries\n",
        "import pandas as pd\n",
        "import numpy as np\n",
        "import networkx as nx\n",
        "import matplotlib.pyplot as plt \n",
        "from random import uniform\n",
        "from copy import deepcopy\n",
        "import warnings"
      ],
      "execution_count": 0,
      "outputs": []
    },
    {
      "cell_type": "code",
      "metadata": {
        "id": "4vsTyPwoElwe",
        "colab_type": "code",
        "colab": {}
      },
      "source": [
        "## Function to geneate seed\n",
        "def generateRandSeed(num,Graph):\n",
        "    \"\"\" A simple function to generate random seed \"\"\"\n",
        "    out = np.random.choice(list(range(Graph.number_of_nodes())),num,replace=False)    \n",
        "    return(out)"
      ],
      "execution_count": 0,
      "outputs": []
    },
    {
      "cell_type": "code",
      "metadata": {
        "id": "SqOzas1DElw0",
        "colab_type": "code",
        "colab": {}
      },
      "source": [
        "def Simulate_Time (Graph,Maximum_Time=100,Seasons=[50,100,150,200],P_seasons = [1,1,1,1],\n",
        "                  Seeds = [0,7], n_dr=1, q_die=0.2, n_s=1, q_s=0.1, pnt_cond=False, how='Transmission',\n",
        "                  network_update = False):\n",
        "  \"\"\" A function to run a cascade simulation on a graph.\n",
        "\n",
        "  The cascade is based on the SIR model in each time step.\n",
        "  ....\n",
        "\n",
        "  Parameters\n",
        "  ----------\n",
        "  Graph: networkx.Graph object\n",
        "    The graph to run the simulation on! Each edge must have a weight\n",
        "    that shows the probability of transmission.\n",
        "\n",
        "  Maximum_Time: int\n",
        "    Maximum time that the simulation is run if it does not cnoverge!\n",
        "\n",
        "  Seasons: list of integers\n",
        "    Each element shows the moment of season change.\n",
        "\n",
        "  P_seasons: list of floats\n",
        "    The Pr[tansmission] is multiplied by the p_season for each season.\n",
        "\n",
        "  Seeds: list of integers\n",
        "    Initial Seeds.\n",
        "  \n",
        "  n_dr: int\n",
        "    Number of time steps that after infection a node dies or recovers.\n",
        "  \n",
        "  q_die: float\n",
        "    Probability of dying at n_dr day after infection\n",
        "\n",
        "  n_s: int\n",
        "    Number of time steps that after infection a node shows symptoms.\n",
        "    After showing symptoms, edge weights are multiplied by q_s.\n",
        "\n",
        "  q_s: float\n",
        "    See n_s.\n",
        "\n",
        "  how: str\n",
        "    It can be 'Transmission' or 'New_Infection'. \n",
        "    In the 'Transmission' mode, R0 is calculated as the number of virus tranmission\n",
        "     (ignoring the fact that the receiver node is already infected or not).\n",
        "    In the 'New_Infection' mode, R0 is calculated the number of new infected nodes,\n",
        "     caused by a node in its sickness period.\n",
        "\n",
        "  network_update: bool\n",
        "    If it is 'True', the 'recoverd' and 'died' nodes are removed from the network.\n",
        "    So in the 'Transmission' mode, we do not count the virus transmission from\n",
        "     Infected nodes to these nodes.\n",
        "\n",
        "  \"\"\"\n",
        "  # Size of Graph\n",
        "  lng = Graph.number_of_nodes()\n",
        "  if pnt_cond:\n",
        "      print(\"Number of nodes are:\",lng,\" and the number of edges are:\",Graph.number_of_edges())\n",
        "\n",
        "  # Checking inputs\n",
        "  if n_s>n_dr:\n",
        "     warnings.warn(\"n_s(time to show symptoms) should be less than n_dr(time to die or recovers)\")\n",
        "\n",
        "  if len(Seeds)>lng:\n",
        "      raise ValueError('\"numSeed\" cannot be larger than Graph size')\n",
        "      \n",
        "  if len([x for x in Seeds if x>=lng])>lng:\n",
        "    raise ValueError('Initial Seeds must be in Graph!') \n",
        "        \n",
        "  if not isinstance(Graph,nx.Graph):\n",
        "     raise ValueError('\"Graph\" must be a networkx.Graph object!')\n",
        "        \n",
        "  if q_die>1 or q_die<0 or q_s<0 or q_s>1 or len([x for x in P_seasons if x<0 or x>1]):\n",
        "    raise ValueError('Probabilities (q_s,q_die, P_seasons) must be between 0 and 1!')\n",
        "        \n",
        "  if how not in ['Transmission','New_Infection']:\n",
        "    raise ValueError('\"how\" must be \"Transmission\" or \"New_Infection\"')\n",
        "\n",
        "  # Sorting elements of Seasons\n",
        "  Seasons.sort()    \n",
        "  \n",
        "  # Declaring output list\n",
        "  OUT=list()\n",
        "          \n",
        "  ## Creating Neighbor List\n",
        "  Neighbors_List = []\n",
        "  Neighbors_org= []\n",
        "  Nodes = list(Graph.nodes())\n",
        "  Nodes.sort(reverse=False)\n",
        "  # Finding Neighbors of each node (we need Neighbors_org for debugging )\n",
        "  for node in list(Nodes):\n",
        "      Neighbors_List.append(dict(Graph.adj[node]))\n",
        "      Neighbors_org.append(dict(Graph.adj[node]))\n",
        "  \n",
        "      \n",
        "  ## Initializing the Status Lists\n",
        "  Normal = list(range(lng))\n",
        "  Infected = list()\n",
        "  Died = list()\n",
        "  Recovered = list()\n",
        "  \n",
        "  # Adding initial seeds to infected list\n",
        "  Infected = [x for x in Seeds]\n",
        "  if pnt_cond:\n",
        "      print(\"Infecteds are     :\",Infected)\n",
        "  \n",
        "  # Timer for infecteds\n",
        "  Infected_timer = [0]*len(Seeds)\n",
        "  if pnt_cond:\n",
        "      print(\"Infecteds timer   :\",Infected_timer)\n",
        "  \n",
        "  # Removing infecteds from Normal list\n",
        "  for node in Infected:\n",
        "      Normal.remove(node)\n",
        "  if pnt_cond:\n",
        "      print(\"Normals are       :\",Normal)\n",
        "      \n",
        "  # Declaring output R0 lists\n",
        "  R0_Node_list = [0]*lng\n",
        "\n",
        "  # Declaring level lists\n",
        "  Normal_size =[]\n",
        "  Infected_size =[]\n",
        "  Recovered_size =[]\n",
        "  Died_size =[]\n",
        "  \n",
        "  # Setting first elements\n",
        "  Normal_size.append(len(Normal))\n",
        "  Infected_size.append(len(Seeds))\n",
        "  Recovered_size.append(0)\n",
        "  Died_size.append(0)\n",
        "\n",
        "\n",
        "\n",
        "  # Going through time \n",
        "  for t in range(1,Maximum_Time):\n",
        "      \n",
        "      # If there is no Infected we are on steady state. So quit!\n",
        "      if len(Infected)==0:\n",
        "          break\n",
        "      \n",
        "      # Print\n",
        "      if pnt_cond:\n",
        "          print(\"\\n\\n\\n************************** Time \"+ str(t) +\" ****************************\")                  \n",
        "  \n",
        "      # Finding Season\n",
        "      if  t<Seasons[0]:\n",
        "          p_s = P_seasons[0]\n",
        "      elif t>=Seasons[0] and t<Seasons[1]:\n",
        "          p_s = P_seasons[1]\n",
        "      elif t>=Seasons[1] and t<Seasons[2]:\n",
        "          p_s = P_seasons[2]\n",
        "      elif t>=Seasons[2] and t<Seasons[3]:\n",
        "          p_s = P_seasons[3]\n",
        "      else:\n",
        "          p_s = 1\n",
        "\n",
        "      if pnt_cond:\n",
        "          print(\"Infecteds are     :\",Infected)\n",
        "          print(\"Infecteds timer   :\",Infected_timer)  \n",
        "          print(\"\\n*******  Level 1: DieRecover\")\n",
        "  \n",
        "      # Finding nodes that must die or recover (based on the timer)\n",
        "      DieRecover = [x for x,y in zip(Infected,Infected_timer) if y == n_dr]\n",
        "      if pnt_cond:\n",
        "          print(\"DieRecover are     :\",DieRecover)\n",
        "      \n",
        "      # For updating netwok, Finding nodes that their neighbor just died or . . .\n",
        "      # . . . recovered so their neighbor list must be updated.\n",
        "      if network_update:\n",
        "          nhbr_rd = set()\n",
        "          for node in DieRecover:\n",
        "              nhbr_rd = nhbr_rd.union(Graph.adj[node])\n",
        "\n",
        "      # For each node in DieRecover list\n",
        "      for node in DieRecover:    \n",
        "          # We delete that node from infecteds and timer\n",
        "          index = Infected.index(node)\n",
        "          del Infected_timer[index]\n",
        "          del Infected[index]\n",
        "          \n",
        "          # In the case we want to update the network:\n",
        "          if network_update:\n",
        "              # We remove the edges for that node (Recovereds can not get sick again)\n",
        "              Graph.remove_edges_from(list(Graph.edges(node)))\n",
        "          \n",
        "          # We see they die or recover with respect to q_die\n",
        "          if uniform(0,1) < q_die:\n",
        "              # It dies\n",
        "              Died.append(node)\n",
        "              if pnt_cond:\n",
        "                  print(\"  Node \",node,\" Died!\")\n",
        "          else:\n",
        "              # It recovers\n",
        "              Recovered.append(node)\n",
        "              if pnt_cond:\n",
        "                  print(\"  Node \",node,\" Recovered!\")\n",
        "      \n",
        "      # In the case we want to update the network:\n",
        "      if network_update:\n",
        "          # Updating Neighbor List for nodes that their neighbrs are died or recoverd\n",
        "          for neighbor in nhbr_rd:\n",
        "              Neighbors_List[neighbor] = dict(Graph.adj[neighbor]) \n",
        "      \n",
        "      # Print\n",
        "      if pnt_cond:\n",
        "          print(\"Infecteds are      :\",Infected)\n",
        "          print(\"Infecteds timer    :\",Infected_timer)\n",
        "          print(\"Normal are         :\",Normal)\n",
        "          print(\"Recovered are      :\",Recovered)\n",
        "          print(\"Died are           :\",Died)\n",
        "          print(\"\\n*******  Level 2: Propagation\")\n",
        "\n",
        "\n",
        "      # Cascade...\n",
        "      # New infected nodes in each time step\n",
        "      New_Infected = []\n",
        "      # For each Infected node we try to find the transmissions\n",
        "      for i in range(len(Infected)):\n",
        "          if pnt_cond:\n",
        "              print(\"\\nInfecteds are      :\",Infected)\n",
        "          \n",
        "          # Infected node\n",
        "          node = Infected[i]\n",
        "          # Number of Transmission by this node in this time step\n",
        "          R0 = 0\n",
        "          \n",
        "          # Checking if the node has symptoms\n",
        "          if Infected_timer[i] < n_s:\n",
        "              Q = 1\n",
        "          else:\n",
        "              Q = q_s\n",
        "          if pnt_cond:\n",
        "              print(\"Node \",node,\" is selected and it has no symptom: \",Q==1)\n",
        "\n",
        "          \n",
        "          ## Finding the Neighbors of the node based on the how (transmission or new infection)\n",
        "          if how=='Transmission':\n",
        "              Neighbors = Neighbors_List[node]\n",
        "          else:\n",
        "              Neighbors = {k:v for k,v in Neighbors_List[node].items() if k in Normal}\n",
        "          if pnt_cond:\n",
        "                  print(\"  Neighbors of node \",node,\" are \",list(Neighbors),'Method: ',how,\n",
        "                        ', all neighbors are:',list(Neighbors_org[node]))\n",
        "                  \n",
        "          \n",
        "          # For each neighbor\n",
        "          for advicee in Neighbors:\n",
        "              if pnt_cond:\n",
        "                  print(\"    *Neighbor \",advicee,\" is selected and R0 is: \",R0)\n",
        "\n",
        "              # Gets informed with respect to edge probability, symptoms, season\n",
        "              if  uniform(0,1)<Neighbors[advicee]['weight']*Q*p_s:\n",
        "                  # Increasing the R-0\n",
        "                  R0+=1\n",
        "                  if pnt_cond:\n",
        "                      print(\"        _Node \",advicee,\" has recieved and R0 is: \",R0,\n",
        "                            \", and this node is already in Infected of New_Infected:\",\n",
        "                            advicee not in Normal)\n",
        "\n",
        "                  # If its a new node (which is not already informed) we update the list of informeds\n",
        "                  if advicee in Normal:\n",
        "                      Normal.remove(advicee)\n",
        "                      New_Infected.append(advicee)\n",
        "                      if pnt_cond:\n",
        "                          print(\"        Normal is        :\",Normal)\n",
        "                          print(\"        New Infectd is   :\",New_Infected)\n",
        "          \n",
        "\n",
        "          # Updating number of new infected for this node\n",
        "          R0_Node_list[node] = R0_Node_list[node]+R0\n",
        "          if pnt_cond:\n",
        "              print(\"R0_List is: \",R0_Node_list)\n",
        "      \n",
        "\n",
        "      ## Increasing Timer of nodes ##\n",
        "      Infected_timer = [x+1 for x in Infected_timer]\n",
        "      \n",
        "      # Updating Infected list and the timer\n",
        "      Infected = Infected + New_Infected\n",
        "      Infected_timer = Infected_timer + len(New_Infected)*[0]\n",
        "      if pnt_cond:\n",
        "          print(\"\\n\\n     Infectd is       :\",Infected)\n",
        "          print(\"     Infectd_timer is :\",Infected_timer,\"\\n\")\n",
        "\n",
        "\n",
        "      # Updating level sizes in each step\n",
        "      Normal_size.append(len(Normal))\n",
        "      Infected_size.append(len(Infected))\n",
        "      Recovered_size.append(len(Recovered))\n",
        "      Died_size.append(len(Died))\n",
        "          \n",
        "  # Keeping nodes which got infected \n",
        "  R0_Infected_Nodes = {k:R0_Node_list[k] for k in range(len(R0_Node_list)) if k not in Normal}\n",
        "  \n",
        "  # The level outpu\n",
        "  level = pd.DataFrame(data={'time':list(range(len(Normal_size))),\n",
        "                          'Normal':Normal_size,\n",
        "                          'Infected':Infected_size,\n",
        "                          'Recovered':Recovered_size,\n",
        "                          'Died':Died_size})\n",
        "  \n",
        "  ## Outputs\n",
        "  # The size of cascade through time\n",
        "  OUT.append(level)\n",
        "  # Dictonary showing R0 for each node (not nodes normal nodes) \n",
        "  OUT.append(R0_Infected_Nodes)\n",
        "  # R0 - average R0 for all nodes\n",
        "  OUT.append(np.mean(list(R0_Infected_Nodes.values())))\n",
        "  # The size of cascade (percentage)\n",
        "  OUT.append((len(Died)+len(Recovered))/lng)\n",
        "\n",
        "\n",
        "  return(OUT)"
      ],
      "execution_count": 0,
      "outputs": []
    },
    {
      "cell_type": "code",
      "metadata": {
        "id": "KWQGlDXdElxE",
        "colab_type": "code",
        "colab": {
          "base_uri": "https://localhost:8080/",
          "height": 159
        },
        "outputId": "ed397701-a50b-4bb4-d995-e9ef96f053e7"
      },
      "source": [
        "n = 10\n",
        "d = 4\n",
        "G_Erdos = nx.erdos_renyi_graph(n,d/n)\n",
        "edge_weight = dict(zip(G_Erdos.edges(),[0.4 for x in range(len(G_Erdos.edges()))]))\n",
        "nx.set_edge_attributes(G_Erdos,edge_weight,'weight')\n",
        "\n",
        "a = Simulate_Time (deepcopy(G_Erdos),Maximum_Time=100,Seasons=[1,2,3,1000],P_seasons = [1,1,1,1],\n",
        "                   Seeds = [0,1], n_dr=1, q_die=0.2, n_s=1, q_s=0.1, \n",
        "                   pnt_cond=False, how='Transmission',network_update = True)\n",
        "a[2]\n",
        "a[0]"
      ],
      "execution_count": 30,
      "outputs": [
        {
          "output_type": "execute_result",
          "data": {
            "text/plain": [
              "0.0"
            ]
          },
          "metadata": {
            "tags": []
          },
          "execution_count": 30
        },
        {
          "output_type": "execute_result",
          "data": {
            "text/html": [
              "<div>\n",
              "<style scoped>\n",
              "    .dataframe tbody tr th:only-of-type {\n",
              "        vertical-align: middle;\n",
              "    }\n",
              "\n",
              "    .dataframe tbody tr th {\n",
              "        vertical-align: top;\n",
              "    }\n",
              "\n",
              "    .dataframe thead th {\n",
              "        text-align: right;\n",
              "    }\n",
              "</style>\n",
              "<table border=\"1\" class=\"dataframe\">\n",
              "  <thead>\n",
              "    <tr style=\"text-align: right;\">\n",
              "      <th></th>\n",
              "      <th>time</th>\n",
              "      <th>Normal</th>\n",
              "      <th>Infected</th>\n",
              "      <th>Recovered</th>\n",
              "      <th>Died</th>\n",
              "    </tr>\n",
              "  </thead>\n",
              "  <tbody>\n",
              "    <tr>\n",
              "      <th>0</th>\n",
              "      <td>0</td>\n",
              "      <td>8</td>\n",
              "      <td>2</td>\n",
              "      <td>0</td>\n",
              "      <td>0</td>\n",
              "    </tr>\n",
              "    <tr>\n",
              "      <th>1</th>\n",
              "      <td>1</td>\n",
              "      <td>8</td>\n",
              "      <td>2</td>\n",
              "      <td>0</td>\n",
              "      <td>0</td>\n",
              "    </tr>\n",
              "    <tr>\n",
              "      <th>2</th>\n",
              "      <td>2</td>\n",
              "      <td>8</td>\n",
              "      <td>0</td>\n",
              "      <td>2</td>\n",
              "      <td>0</td>\n",
              "    </tr>\n",
              "  </tbody>\n",
              "</table>\n",
              "</div>"
            ],
            "text/plain": [
              "   time  Normal  Infected  Recovered  Died\n",
              "0     0       8         2          0     0\n",
              "1     1       8         2          0     0\n",
              "2     2       8         0          2     0"
            ]
          },
          "metadata": {
            "tags": []
          },
          "execution_count": 30
        }
      ]
    },
    {
      "cell_type": "code",
      "metadata": {
        "collapsed": true,
        "jupyter": {
          "outputs_hidden": true
        },
        "id": "_IdzgxcIElyk",
        "colab_type": "code",
        "colab": {},
        "outputId": "b7fe71d1-ca75-47bc-c3ad-4975cbcc2138"
      },
      "source": [
        "# %%time\n",
        "# Erdos\n",
        "range_size = 10\n",
        "Gc_Erdos = list()\n",
        "for i in range(range_size):\n",
        "    graph_size = 1000\n",
        "    G_Erdos = nx.erdos_renyi_graph(graph_size,0.02)\n",
        "    edge_weight = dict(zip(G_Erdos.edges(),[uniform(0.02,0.16) for x in range(len(G_Erdos.edges()))]))\n",
        "    nx.set_edge_attributes(G_Erdos,edge_weight,'weight')\n",
        "\n",
        "    Gc_Erdos.append(deepcopy(G_Erdos))\n",
        "\n",
        "\n",
        "# Power-Law Grapj\n",
        "#create a graph with degrees following a power law distribution\n",
        "Gc_pl = list()\n",
        "cnt=0\n",
        "while cnt <10:\n",
        "    print(cnt)\n",
        "    try:\n",
        "        s = nx.utils.powerlaw_sequence(graph_size, 1.25) #100 nodes, power-law exponent 2.5\n",
        "        G_pl = nx.expected_degree_graph(s, selfloops=False)\n",
        "    except ZeroDivisionError:\n",
        "            continue\n",
        "    if G_pl.number_of_edges()>9000 and G_pl.number_of_edges()<10000:\n",
        "        edge_weight = dict(zip(G_pl.edges(),[uniform(0.02,0.16) for x in range(len(G_pl.edges()))]))\n",
        "        nx.set_edge_attributes(G_pl,edge_weight,'weight')\n",
        "        Gc_pl.append(deepcopy(G_pl))\n",
        "        cnt+=1\n",
        "    else:\n",
        "        continue\n",
        "    \n",
        "\n",
        "#draw and show graph\n",
        "# pos = nx.spring_layout(G)\n",
        "# nx.draw_networkx(G, pos)\n",
        "# plt.show()\n",
        "\n",
        "Gc_Erdos[0].number_of_edges()\n",
        "Gc_pl[0].number_of_edges()"
      ],
      "execution_count": 0,
      "outputs": [
        {
          "output_type": "stream",
          "text": [
            "0\n",
            "0\n",
            "0\n",
            "0\n",
            "0\n",
            "0\n",
            "0\n",
            "0\n",
            "0\n",
            "0\n",
            "0\n",
            "0\n",
            "0\n",
            "0\n",
            "0\n",
            "0\n",
            "0\n",
            "0\n",
            "1\n",
            "1\n",
            "1\n",
            "1\n",
            "1\n",
            "1\n",
            "1\n",
            "1\n",
            "1\n",
            "1\n",
            "1\n",
            "1\n",
            "1\n",
            "1\n",
            "1\n",
            "1\n",
            "1\n",
            "1\n",
            "2\n",
            "2\n",
            "2\n",
            "2\n",
            "2\n",
            "2\n",
            "2\n",
            "2\n",
            "2\n",
            "2\n",
            "2\n",
            "2\n",
            "2\n",
            "2\n",
            "2\n",
            "2\n",
            "2\n",
            "3\n",
            "3\n",
            "3\n",
            "3\n",
            "3\n",
            "3\n",
            "3\n",
            "3\n",
            "3\n",
            "3\n",
            "3\n",
            "3\n",
            "3\n",
            "3\n",
            "3\n",
            "3\n",
            "3\n",
            "3\n",
            "3\n",
            "3\n",
            "3\n",
            "3\n",
            "3\n",
            "3\n",
            "3\n",
            "3\n",
            "3\n",
            "3\n",
            "3\n",
            "4\n",
            "4\n",
            "4\n",
            "4\n",
            "4\n",
            "4\n",
            "4\n",
            "4\n",
            "4\n",
            "4\n",
            "4\n",
            "4\n",
            "4\n",
            "4\n",
            "4\n",
            "4\n",
            "4\n",
            "4\n",
            "4\n",
            "4\n",
            "4\n",
            "4\n",
            "4\n",
            "4\n",
            "5\n",
            "5\n",
            "5\n",
            "5\n",
            "5\n",
            "5\n",
            "5\n",
            "5\n",
            "5\n",
            "5\n",
            "5\n",
            "5\n",
            "5\n",
            "5\n",
            "5\n",
            "5\n",
            "5\n",
            "5\n",
            "5\n",
            "5\n",
            "5\n",
            "5\n",
            "5\n",
            "5\n",
            "5\n",
            "5\n",
            "5\n",
            "5\n",
            "5\n",
            "5\n",
            "5\n",
            "5\n",
            "5\n",
            "5\n",
            "5\n",
            "5\n",
            "5\n",
            "5\n",
            "5\n",
            "5\n",
            "5\n",
            "5\n",
            "5\n",
            "5\n",
            "5\n",
            "5\n",
            "5\n",
            "5\n",
            "5\n",
            "5\n",
            "5\n",
            "5\n",
            "5\n",
            "5\n",
            "5\n",
            "5\n",
            "5\n",
            "5\n",
            "5\n",
            "5\n",
            "5\n",
            "5\n",
            "5\n",
            "5\n",
            "5\n",
            "5\n",
            "5\n",
            "5\n",
            "5\n",
            "5\n",
            "5\n",
            "5\n",
            "5\n",
            "5\n",
            "5\n",
            "5\n",
            "5\n",
            "5\n",
            "5\n",
            "5\n",
            "5\n",
            "6\n",
            "6\n",
            "6\n",
            "6\n",
            "6\n",
            "6\n",
            "6\n",
            "6\n",
            "6\n",
            "6\n",
            "6\n",
            "6\n",
            "6\n",
            "6\n",
            "6\n",
            "6\n",
            "6\n",
            "6\n",
            "6\n",
            "6\n",
            "6\n",
            "6\n",
            "6\n",
            "6\n",
            "6\n",
            "6\n",
            "6\n",
            "6\n",
            "6\n",
            "6\n",
            "6\n",
            "6\n",
            "6\n",
            "6\n",
            "6\n",
            "6\n",
            "6\n",
            "6\n",
            "6\n",
            "6\n",
            "6\n",
            "6\n",
            "6\n",
            "6\n",
            "6\n",
            "6\n",
            "6\n",
            "6\n",
            "6\n",
            "6\n",
            "6\n",
            "6\n",
            "6\n",
            "6\n",
            "6\n",
            "6\n",
            "6\n",
            "6\n",
            "6\n",
            "6\n",
            "6\n",
            "6\n",
            "6\n",
            "6\n",
            "6\n",
            "6\n",
            "6\n",
            "6\n",
            "6\n",
            "6\n",
            "6\n",
            "6\n",
            "7\n",
            "7\n",
            "7\n",
            "7\n",
            "7\n",
            "7\n",
            "7\n",
            "7\n",
            "7\n",
            "7\n",
            "7\n",
            "7\n",
            "7\n",
            "7\n",
            "7\n",
            "7\n",
            "7\n",
            "7\n",
            "7\n",
            "7\n",
            "7\n",
            "7\n",
            "7\n",
            "7\n",
            "7\n",
            "7\n",
            "7\n",
            "7\n",
            "7\n",
            "7\n",
            "7\n",
            "7\n",
            "7\n",
            "7\n",
            "7\n",
            "7\n",
            "7\n",
            "7\n",
            "7\n",
            "7\n",
            "7\n",
            "7\n",
            "7\n",
            "7\n",
            "7\n",
            "7\n",
            "8\n",
            "8\n",
            "8\n",
            "8\n",
            "8\n",
            "8\n",
            "8\n",
            "8\n",
            "8\n",
            "8\n",
            "8\n",
            "8\n",
            "8\n",
            "8\n",
            "8\n",
            "8\n",
            "8\n",
            "8\n",
            "8\n",
            "8\n",
            "8\n",
            "8\n",
            "8\n",
            "8\n",
            "8\n",
            "8\n",
            "8\n",
            "8\n",
            "8\n",
            "8\n",
            "8\n",
            "8\n",
            "8\n",
            "8\n",
            "8\n",
            "8\n",
            "8\n",
            "8\n",
            "8\n",
            "9\n",
            "9\n",
            "9\n",
            "9\n",
            "9\n",
            "9\n",
            "9\n",
            "9\n",
            "9\n",
            "9\n",
            "9\n",
            "9\n",
            "9\n",
            "9\n",
            "9\n",
            "9\n",
            "9\n",
            "9\n",
            "9\n",
            "9\n",
            "9\n",
            "9\n",
            "9\n",
            "9\n",
            "9\n",
            "9\n",
            "9\n"
          ],
          "name": "stdout"
        },
        {
          "output_type": "execute_result",
          "data": {
            "text/plain": [
              "9891"
            ]
          },
          "metadata": {
            "tags": []
          },
          "execution_count": 53
        },
        {
          "output_type": "execute_result",
          "data": {
            "text/plain": [
              "9021"
            ]
          },
          "metadata": {
            "tags": []
          },
          "execution_count": 53
        }
      ]
    },
    {
      "cell_type": "code",
      "metadata": {
        "collapsed": true,
        "jupyter": {
          "outputs_hidden": true
        },
        "id": "MO3kGyNJElyt",
        "colab_type": "code",
        "colab": {},
        "outputId": "ccb2f821-e2ac-40fd-b3cd-c681556654fd"
      },
      "source": [
        "for x in Gc_Erdos:\n",
        "    x.number_of_edges()\n",
        "\n",
        "for x in Gc_pl:\n",
        "    x.number_of_edges()"
      ],
      "execution_count": 0,
      "outputs": [
        {
          "output_type": "execute_result",
          "data": {
            "text/plain": [
              "9891"
            ]
          },
          "metadata": {
            "tags": []
          },
          "execution_count": 56
        },
        {
          "output_type": "execute_result",
          "data": {
            "text/plain": [
              "10012"
            ]
          },
          "metadata": {
            "tags": []
          },
          "execution_count": 56
        },
        {
          "output_type": "execute_result",
          "data": {
            "text/plain": [
              "9998"
            ]
          },
          "metadata": {
            "tags": []
          },
          "execution_count": 56
        },
        {
          "output_type": "execute_result",
          "data": {
            "text/plain": [
              "9917"
            ]
          },
          "metadata": {
            "tags": []
          },
          "execution_count": 56
        },
        {
          "output_type": "execute_result",
          "data": {
            "text/plain": [
              "10096"
            ]
          },
          "metadata": {
            "tags": []
          },
          "execution_count": 56
        },
        {
          "output_type": "execute_result",
          "data": {
            "text/plain": [
              "9979"
            ]
          },
          "metadata": {
            "tags": []
          },
          "execution_count": 56
        },
        {
          "output_type": "execute_result",
          "data": {
            "text/plain": [
              "10106"
            ]
          },
          "metadata": {
            "tags": []
          },
          "execution_count": 56
        },
        {
          "output_type": "execute_result",
          "data": {
            "text/plain": [
              "10070"
            ]
          },
          "metadata": {
            "tags": []
          },
          "execution_count": 56
        },
        {
          "output_type": "execute_result",
          "data": {
            "text/plain": [
              "9902"
            ]
          },
          "metadata": {
            "tags": []
          },
          "execution_count": 56
        },
        {
          "output_type": "execute_result",
          "data": {
            "text/plain": [
              "10131"
            ]
          },
          "metadata": {
            "tags": []
          },
          "execution_count": 56
        },
        {
          "output_type": "execute_result",
          "data": {
            "text/plain": [
              "9021"
            ]
          },
          "metadata": {
            "tags": []
          },
          "execution_count": 56
        },
        {
          "output_type": "execute_result",
          "data": {
            "text/plain": [
              "9078"
            ]
          },
          "metadata": {
            "tags": []
          },
          "execution_count": 56
        },
        {
          "output_type": "execute_result",
          "data": {
            "text/plain": [
              "9816"
            ]
          },
          "metadata": {
            "tags": []
          },
          "execution_count": 56
        },
        {
          "output_type": "execute_result",
          "data": {
            "text/plain": [
              "9522"
            ]
          },
          "metadata": {
            "tags": []
          },
          "execution_count": 56
        },
        {
          "output_type": "execute_result",
          "data": {
            "text/plain": [
              "9751"
            ]
          },
          "metadata": {
            "tags": []
          },
          "execution_count": 56
        },
        {
          "output_type": "execute_result",
          "data": {
            "text/plain": [
              "9773"
            ]
          },
          "metadata": {
            "tags": []
          },
          "execution_count": 56
        },
        {
          "output_type": "execute_result",
          "data": {
            "text/plain": [
              "9944"
            ]
          },
          "metadata": {
            "tags": []
          },
          "execution_count": 56
        },
        {
          "output_type": "execute_result",
          "data": {
            "text/plain": [
              "9219"
            ]
          },
          "metadata": {
            "tags": []
          },
          "execution_count": 56
        },
        {
          "output_type": "execute_result",
          "data": {
            "text/plain": [
              "9468"
            ]
          },
          "metadata": {
            "tags": []
          },
          "execution_count": 56
        },
        {
          "output_type": "execute_result",
          "data": {
            "text/plain": [
              "9478"
            ]
          },
          "metadata": {
            "tags": []
          },
          "execution_count": 56
        }
      ]
    },
    {
      "cell_type": "code",
      "metadata": {
        "collapsed": true,
        "jupyter": {
          "outputs_hidden": true
        },
        "id": "P2GqOgeEEly7",
        "colab_type": "code",
        "colab": {},
        "outputId": "d344c34d-e673-45ed-ddf7-c6dcd5b9926d"
      },
      "source": [
        "G = deepcopy(G1)\n",
        "G.number_of_nodes()\n",
        "G.number_of_edges()\n",
        "\n",
        "lng = G.number_of_nodes()\n",
        "\n",
        "seedSize = 3\n",
        "seedRPT = 5\n",
        "RPT = 5\n",
        "\n",
        "R0_X = 0\n",
        "R0_X_Time= list()\n",
        "levels_X = list()\n",
        "time_end_X = []\n",
        "\n",
        "\n",
        "R0_Y = 0\n",
        "R0_Y_Time = list()\n",
        "levels_Y = list()\n",
        "time_end_Y = []\n",
        "\n",
        "\n",
        "for x,y in (Gc_Erdos, Gc_pl):\n",
        "    for s in range(seedRPT):\n",
        "        print(s)\n",
        "        Seeds = generateRandSeed(seedSize,lng)\n",
        "\n",
        "        for rpt in range(RPT):\n",
        "    #         deepcopy(G).number_of_edges()\n",
        "            X = Simulate_Time (deepcopy(G),Maximum_Time=120,End='Steay',Seasons=chunkIt(list(range(1,100)),4),P_seasons = [0.7,1.4,1,0.7],\n",
        "                      Seeds = Seeds, n_dr=20, q_die=0.3, n_s=10, q_s=0.2, pnt_cond=0, how='Transmission')\n",
        "\n",
        "            Y = Simulate_Time (deepcopy(G),Maximum_Time=120,End='Stedy',Seasons=chunkIt(list(range(1,100)),4),P_seasons = [0.1,1.4,1,0.7],\n",
        "                      Seeds = Seeds, n_dr=20, q_die=0.3, n_s=10, q_s=0.2, pnt_cond=0, how='Transmission')\n",
        "\n",
        "            R0_X = R0_X+X[3]\n",
        "            R0_X_Time.append(X[1])\n",
        "            time_end_X.append(X[4])\n",
        "            levels_X.append(X[0])\n",
        "\n",
        "\n",
        "            R0_Y = R0_Y+Y[3]\n",
        "            R0_Y_Time.append(Y[1])\n",
        "            time_end_Y.append(Y[4])\n",
        "            levels_Y.append(Y[0])\n",
        "        \n",
        "R0_X_Node = R0_X/(seedRPT*RPT*10)\n",
        "\n",
        "R0_Y_Node = R0_Y/(seedRPT*RPT*10)"
      ],
      "execution_count": 0,
      "outputs": [
        {
          "output_type": "execute_result",
          "data": {
            "text/plain": [
              "356"
            ]
          },
          "metadata": {
            "tags": []
          },
          "execution_count": 58
        },
        {
          "output_type": "execute_result",
          "data": {
            "text/plain": [
              "1153"
            ]
          },
          "metadata": {
            "tags": []
          },
          "execution_count": 58
        },
        {
          "output_type": "error",
          "ename": "ValueError",
          "evalue": "too many values to unpack (expected 2)",
          "traceback": [
            "\u001b[1;31m---------------------------------------------------------------------------\u001b[0m",
            "\u001b[1;31mValueError\u001b[0m                                Traceback (most recent call last)",
            "\u001b[1;32m<ipython-input-58-83ca60e2d681>\u001b[0m in \u001b[0;36m<module>\u001b[1;34m\u001b[0m\n\u001b[0;32m     21\u001b[0m \u001b[1;33m\u001b[0m\u001b[0m\n\u001b[0;32m     22\u001b[0m \u001b[1;33m\u001b[0m\u001b[0m\n\u001b[1;32m---> 23\u001b[1;33m \u001b[1;32mfor\u001b[0m \u001b[0mx\u001b[0m\u001b[1;33m,\u001b[0m\u001b[0my\u001b[0m \u001b[1;32min\u001b[0m \u001b[1;33m(\u001b[0m\u001b[0mGc_Erdos\u001b[0m\u001b[1;33m,\u001b[0m \u001b[0mGc_pl\u001b[0m\u001b[1;33m)\u001b[0m\u001b[1;33m:\u001b[0m\u001b[1;33m\u001b[0m\u001b[1;33m\u001b[0m\u001b[0m\n\u001b[0m\u001b[0;32m     24\u001b[0m     \u001b[1;32mfor\u001b[0m \u001b[0ms\u001b[0m \u001b[1;32min\u001b[0m \u001b[0mrange\u001b[0m\u001b[1;33m(\u001b[0m\u001b[0mseedRPT\u001b[0m\u001b[1;33m)\u001b[0m\u001b[1;33m:\u001b[0m\u001b[1;33m\u001b[0m\u001b[1;33m\u001b[0m\u001b[0m\n\u001b[0;32m     25\u001b[0m         \u001b[0mprint\u001b[0m\u001b[1;33m(\u001b[0m\u001b[0ms\u001b[0m\u001b[1;33m)\u001b[0m\u001b[1;33m\u001b[0m\u001b[1;33m\u001b[0m\u001b[0m\n",
            "\u001b[1;31mValueError\u001b[0m: too many values to unpack (expected 2)"
          ]
        }
      ]
    },
    {
      "cell_type": "code",
      "metadata": {
        "collapsed": true,
        "jupyter": {
          "outputs_hidden": true
        },
        "id": "3ow1Y8pHElzE",
        "colab_type": "code",
        "colab": {},
        "outputId": "11afea7b-3ef5-4015-f1a1-7c0303b5ec50"
      },
      "source": [
        "%%time\n",
        "num=5\n",
        "# i=time_end.index(max(time_end))\n",
        "i = 19\n",
        "data_X = levels_X[i]\n",
        "N = 10\n",
        "\n",
        "y1_X = data_X.time\n",
        "\n",
        "y2_X = [x/lng for x in data_X.Infected]\n",
        "# y2 = np.convolve(y2,np.ones((N,))/N,mode='same')\n",
        "\n",
        "y3_X = [x/lng for x in data_X.Died]\n",
        "# y3 = np.convolve(y3,np.ones((N,))/N,mode='same')\n",
        "\n",
        "\n",
        "\n",
        "\n",
        "# Plot Line1 (Left Y Axis)\n",
        "fig, ax1 = plt.subplots(1,1,figsize=(6,3), dpi= 120)\n",
        "\n",
        "ax1.plot(y1_X,y2_X,color='red',lw=1,label='Infected')\n",
        "ax1.plot(y1_X, y3_X,color='red',lw=1,label='Died',ls='dashed')\n",
        "ax1.tick_params(axis='x', labelsize=5)\n",
        "ax1.set_ylabel('Percentage', fontsize=5)\n",
        "ax1.tick_params(axis='y', rotation=0,labelsize=5 )\n",
        "ax1.set_xticks(y1_X[::5])\n",
        "ax1.set_xticklabels(y1_X[::5])\n",
        "ax1.grid(alpha=.4)\n",
        "\n",
        "\n",
        "\n",
        "data_Y = levels_Y[i]\n",
        "\n",
        "y1_Y = data_Y.time\n",
        "\n",
        "y2_Y = [x/lng for x in data_Y.Infected]\n",
        "# y2 = np.convolve(y2,np.ones((N,))/N,mode='same')\n",
        "\n",
        "y3_Y = [x/lng for x in data_Y.Died]\n",
        "# y3 = np.convolve(y3,np.ones((N,))/N,mode='same')\n",
        "\n",
        "\n",
        "ax1.plot(y1_Y,y2_Y,color='blue',lw=1,label='Infected')\n",
        "ax1.plot(y1_Y, y3_Y,color='blue',lw=1,label='Died',ls='dashed')\n",
        "ax1.tick_params(axis='x', labelsize=5)\n",
        "ax1.set_ylabel('Percentage', fontsize=5)\n",
        "ax1.tick_params(axis='y', rotation=0,labelsize=5 )\n",
        "ax1.set_xticks(y1_Y[::5])\n",
        "ax1.set_xticklabels(y1_Y[::5])\n",
        "ax1.grid(alpha=.5)"
      ],
      "execution_count": 0,
      "outputs": [
        {
          "output_type": "stream",
          "text": [
            "Wall time: 191 ms\n"
          ],
          "name": "stdout"
        },
        {
          "output_type": "display_data",
          "data": {
            "image/png": "[encoded data removed]",
            "text/plain": [
              "<Figure size 720x360 with 1 Axes>"
            ]
          },
          "metadata": {
            "tags": [],
            "needs_background": "light"
          }
        }
      ]
    }
  ]
}