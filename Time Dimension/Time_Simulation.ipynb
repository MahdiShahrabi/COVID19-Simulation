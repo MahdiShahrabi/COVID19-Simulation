{
  "nbformat": 4,
  "nbformat_minor": 0,
  "metadata": {
    "kernelspec": {
      "display_name": "Python 3",
      "language": "python",
      "name": "python3"
    },
    "language_info": {
      "codemirror_mode": {
        "name": "ipython",
        "version": 3
      },
      "file_extension": ".py",
      "mimetype": "text/x-python",
      "name": "python",
      "nbconvert_exporter": "python",
      "pygments_lexer": "ipython3",
      "version": "3.7.1"
    },
    "colab": {
      "name": "Time_Simulation.ipynb",
      "provenance": [],
      "include_colab_link": true
    }
  },
  "cells": [
    {
      "cell_type": "markdown",
      "metadata": {
        "id": "view-in-github",
        "colab_type": "text"
      },
      "source": [
        "<a href=\"https://colab.research.google.com/github/MahdiShahrabi/COVID19-Simulation/blob/Subgraphs/Time%20Dimension/Time_Simulation.ipynb\" target=\"_parent\"><img src=\"https://colab.research.google.com/assets/colab-badge.svg\" alt=\"Open In Colab\"/></a>"
      ]
    },
    {
      "cell_type": "code",
      "metadata": {
        "id": "SQex1-GpElvo",
        "colab_type": "code",
        "colab": {}
      },
      "source": [
        "## Loading Libraries\n",
        "import pandas as pd\n",
        "import numpy as np\n",
        "import networkx as nx\n",
        "import matplotlib.pyplot as plt \n",
        "from random import uniform\n",
        "from copy import deepcopy\n",
        "import warnings"
      ],
      "execution_count": 0,
      "outputs": []
    },
    {
      "cell_type": "code",
      "metadata": {
        "id": "4vsTyPwoElwe",
        "colab_type": "code",
        "colab": {}
      },
      "source": [
        "## Function to geneate seed\n",
        "def generateRandSeed(num,Graph):\n",
        "    \"\"\" A simple function to generate random seed \"\"\"\n",
        "    out = np.random.choice(list(range(Graph.number_of_nodes())),num,replace=False)    \n",
        "    return(out)"
      ],
      "execution_count": 0,
      "outputs": []
    },
    {
      "cell_type": "code",
      "metadata": {
        "id": "SqOzas1DElw0",
        "colab_type": "code",
        "colab": {}
      },
      "source": [
        "def Simulate_SIR_Time (Graph,Maximum_Time=100,Seasons=[50,100,150,200],P_seasons = [1,1,1,1],\n",
        "                  Seeds = [0,7], n_dr=1, q_die=0.2, n_s=1, q_s=0.1, how='Transmission'):\n",
        "    \n",
        "  \"\"\" A function to run a cascade simulation on a graph.\n",
        "\n",
        "  The cascade is based on the SIR model in each time step.\n",
        "  ....\n",
        "\n",
        "  Parameters\n",
        "  ----------\n",
        "  Graph: networkx.Graph object\n",
        "    The graph to run the simulation on! Each edge must have a weight\n",
        "    that shows the probability of transmission.\n",
        "\n",
        "  Maximum_Time: int\n",
        "    Maximum time that the simulation is run if it does not cnoverge!\n",
        "\n",
        "  Seasons: list of integers\n",
        "    Each element shows the moment of season change.\n",
        "\n",
        "  P_seasons: list of floats\n",
        "    The Pr[tansmission] is multiplied by the p_season for each season.\n",
        "\n",
        "  Seeds: list of integers\n",
        "    Initial Seeds.\n",
        "  \n",
        "  n_dr: int\n",
        "    Number of time steps that after infection a node dies or recovers.\n",
        "  \n",
        "  q_die: float\n",
        "    Probability of dying at n_dr day after infection\n",
        "\n",
        "  n_s: int\n",
        "    Number of time steps that after infection a node shows symptoms.\n",
        "    After showing symptoms, edge weights are multiplied by q_s.\n",
        "\n",
        "  q_s: float\n",
        "    See n_s.\n",
        "\n",
        "  how: str\n",
        "    It can be 'Transmission' or 'New_Infection'. \n",
        "    In the 'Transmission' mode, R0 is calculated as the number of virus tranmission\n",
        "     (ignoring the fact that the receiver node is already infected or not).\n",
        "    In the 'New_Infection' mode, R0 is calculated the number of new infected nodes,\n",
        "     caused by a node in its sickness period.\n",
        "  \n",
        "  Attention\n",
        "  ---------\n",
        "  If in this simulation if we put n_dr=1, we have the simple SIR model.\n",
        "\n",
        "  \"\"\"\n",
        "  # Size of Graph\n",
        "  lng = Graph.number_of_nodes()\n",
        "\n",
        "  # Checking inputs\n",
        "  if n_s>n_dr:\n",
        "     warnings.warn(\"n_s(time to show symptoms) should be less than n_dr(time to die or recovers)\")\n",
        "\n",
        "  if len(Seeds)>lng:\n",
        "      raise ValueError('\"numSeed\" cannot be larger than Graph size')\n",
        "      \n",
        "  if len([x for x in Seeds if x>=lng])>lng:\n",
        "    raise ValueError('Initial Seeds must be in Graph!') \n",
        "        \n",
        "  if not isinstance(Graph,nx.Graph):\n",
        "     raise ValueError('\"Graph\" must be a networkx.Graph object!')\n",
        "        \n",
        "  if q_die>1 or q_die<0 or q_s<0 or q_s>1 or len([x for x in P_seasons if x<0]):\n",
        "    raise ValueError('Probabilities (q_s,q_die, P_seasons) must be between 0 and 1!')\n",
        "        \n",
        "  if how not in ['Transmission','New_Infection']:\n",
        "    raise ValueError('\"how\" must be \"Transmission\" or \"New_Infection\"')\n",
        "\n",
        "  # Sorting elements of Seasons\n",
        "  Seasons.sort()    \n",
        "  \n",
        "  # Declaring output list\n",
        "  OUT=list()     \n",
        "\n",
        "  ## Creating Neighbor List\n",
        "  Neighbors_List = []\n",
        "  Nodes = list(Graph.nodes())\n",
        "  Nodes.sort(reverse=False)\n",
        "  # Finding Neighbors of each node\n",
        "  for node in list(Nodes):\n",
        "      Neighbors_List.append(dict(Graph.adj[node]))\n",
        "\n",
        "\n",
        "  ## Initializing the Status Lists\n",
        "  Normal = list(range(lng))\n",
        "  Infected = list()\n",
        "  Died = list()\n",
        "  Recovered = list()\n",
        "  \n",
        "  # Adding initial seeds to infected list\n",
        "  Infected = [x for x in Seeds]\n",
        "\n",
        "  # Timer for infecteds\n",
        "  Infected_timer = [0]*len(Seeds)\n",
        "\n",
        "  # Removing infecteds from Normal list\n",
        "  for node in Infected:\n",
        "      Normal.remove(node)\n",
        "      \n",
        "  # Declaring output R0 lists\n",
        "  R0_Node_list = [0]*lng\n",
        "  R0_time_list = []\n",
        "\n",
        "  # Declaring level lists\n",
        "  Normal_size =[]\n",
        "  Infected_size =[]\n",
        "  Recovered_size =[]\n",
        "  Died_size =[]\n",
        "  \n",
        "  # Setting first elements\n",
        "  Normal_size.append(len(Normal))\n",
        "  Infected_size.append(len(Seeds))\n",
        "  Recovered_size.append(0)\n",
        "  Died_size.append(0)\n",
        "  \n",
        "\n",
        "  # Going through time \n",
        "  for t in range(1,Maximum_Time+1):\n",
        "      \n",
        "      # If there is no Infected we are on steady state. So quit!\n",
        "      if len(Infected)==0:\n",
        "          break\n",
        "      # R_t\n",
        "      R0_t = 0\n",
        "    \n",
        "      # Finding Season\n",
        "      if  t<Seasons[0]:\n",
        "          p_s = P_seasons[0]\n",
        "      elif t>=Seasons[0] and t<Seasons[1]:\n",
        "          p_s = P_seasons[1]\n",
        "      elif t>=Seasons[1] and t<Seasons[2]:\n",
        "          p_s = P_seasons[2]\n",
        "      elif t>=Seasons[2] and t<Seasons[3]:\n",
        "          p_s = P_seasons[3]\n",
        "      else:\n",
        "          p_s = 1\n",
        "\n",
        "      # Finding nodes that must die or recover (based on the timer)\n",
        "      DieRecover = [x for x,y in zip(Infected,Infected_timer) if y == n_dr]\n",
        "      \n",
        "      # For updating netwok, Finding nodes that their neighbor just died or . . .\n",
        "      # . . . recovered so their neighbor list must be updated.                    \n",
        "      nhbr_rd = set()\n",
        "\n",
        "      # For each node in DieRecover list\n",
        "      for node in DieRecover:\n",
        "          # The neighbors of the dead or recoverd node need to be modified\n",
        "          nhbr_rd = nhbr_rd.union(Graph.adj[node])    \n",
        "\n",
        "          # We delete that node from infecteds and timer\n",
        "          index = Infected.index(node)\n",
        "          del Infected_timer[index]\n",
        "          del Infected[index]\n",
        "\n",
        "          # We remove the edges for that node (Recovereds can not get sick again)\n",
        "          Graph.remove_edges_from(list(Graph.edges(node)))\n",
        "          \n",
        "          # We see they die or recover with respect to q_die\n",
        "          if uniform(0,1) < q_die:\n",
        "              # It dies\n",
        "              Died.append(node)\n",
        "\n",
        "          else:\n",
        "              # It recovers\n",
        "              Recovered.append(node)\n",
        "      \n",
        "\n",
        "      # Updating Neighbor List for nodes that their neighbrs are died or recoverd\n",
        "      for neighbor in nhbr_rd:\n",
        "          Neighbors_List[neighbor] = dict(Graph.adj[neighbor]) \n",
        "\n",
        "      # Cascade...\n",
        "      # New infected nodes in each time step\n",
        "      New_Infected = []\n",
        "      # For each Infected node we try to find the transmissions\n",
        "      for i in range(len(Infected)):\n",
        "\n",
        "          # Infected node\n",
        "          node = Infected[i]\n",
        "          # Number of Transmission by this node in this time step\n",
        "          R0 = 0\n",
        "          \n",
        "          # Checking if the node has symptoms\n",
        "          if Infected_timer[i] < n_s:\n",
        "              Q = 1\n",
        "          else:\n",
        "              Q = q_s\n",
        "                   \n",
        "          ## Finding the Neighbors of the node based on the how (transmission or new infection)\n",
        "          if how=='Transmission':\n",
        "              Neighbors = Neighbors_List[node]\n",
        "          else:\n",
        "              Neighbors = {k:v for k,v in Neighbors_List[node].items() if k in Normal}               \n",
        "          \n",
        "          # For each neighbor\n",
        "          for advicee in Neighbors:\n",
        "              \n",
        "              # Gets informed with respect to edge probability, symptoms, season\n",
        "              if  uniform(0,1)<Neighbors[advicee]['weight']*Q*p_s:\n",
        "                  # Increasing the R-0 for node and time\n",
        "                  R0+=1\n",
        "                  R0_t+=1  \n",
        "\n",
        "                  # If its a new node (which is not already informed) we update the list of informeds\n",
        "                  if advicee in Normal:\n",
        "                      Normal.remove(advicee)\n",
        "                      New_Infected.append(advicee)\n",
        "          \n",
        "\n",
        "          # Updating number of new infected for this node\n",
        "          R0_Node_list[node] = R0_Node_list[node]+R0\n",
        "          \n",
        "\n",
        "      ## Increasing Timer of nodes ##\n",
        "      Infected_timer = [x+1 for x in Infected_timer]\n",
        "\n",
        "      ## Updaint list of R_t\n",
        "      try: \n",
        "        R0_time_list.append(R0_t/len(Infected))\n",
        "\n",
        "      except:\n",
        "        R0_time_list.append(np.nan)\n",
        "\n",
        "      # Updating Infected list and the timer\n",
        "      Infected = Infected + New_Infected\n",
        "      Infected_timer = Infected_timer + len(New_Infected)*[0]\n",
        "      \n",
        "      # Updating level sizes in each step\n",
        "      Normal_size.append(len(Normal))\n",
        "      Infected_size.append(len(Infected))\n",
        "      Recovered_size.append(len(Recovered))\n",
        "      Died_size.append(len(Died))\n",
        "          \n",
        "  # Keeping nodes which got infected \n",
        "  R0_Infected_Nodes = {k:R0_Node_list[k] for k in range(len(R0_Node_list)) if k not in Normal}\n",
        "  \n",
        "  # The level outpu\n",
        "  level = pd.DataFrame(data={'time':list(range(len(Normal_size))),\n",
        "                             'Normal':Normal_size,\n",
        "                             'Infected':Infected_size,\n",
        "                             'Recovered':Recovered_size,\n",
        "                             'Died':Died_size})\n",
        "  \n",
        "  ## Outputs\n",
        "  # The size of cascade through time\n",
        "  OUT.append(level)\n",
        "  # Dictonary showing R0 for each node (not nodes normal nodes) \n",
        "  OUT.append(R0_Infected_Nodes)\n",
        "  # R0 - average R0 for all nodes\n",
        "  OUT.append(np.mean(list(R0_Infected_Nodes.values())))\n",
        "  # The size of cascade (percentage)\n",
        "  OUT.append((len(Died)+len(Recovered)+len(Infected))/lng)\n",
        "  # R_T\n",
        "  OUT.append(R0_time_list)\n",
        "\n",
        "\n",
        "  return(OUT)"
      ],
      "execution_count": 0,
      "outputs": []
    },
    {
      "cell_type": "code",
      "metadata": {
        "id": "F-QNDc7AoTYH",
        "colab_type": "code",
        "colab": {}
      },
      "source": [
        "def plot_simulation_output(Graphsize,data,module=['Infected','Rt','Died']):\n",
        "\n",
        "  lng = Graphsize\n",
        "\n",
        "  time = list(range(0,len(data[0])))\n",
        "  \n",
        "  DATA ={'Normal':[x/lng for x in list(data[0].Normal)],'Infected':[x/lng for x in list(data[0].Infected)],'Died':[x/lng for x in list(data[0].Died)],'Rt':data[1]}\n",
        "  colors ={'Normal':'green','Infected':'blue','Died':'red','Rt':'black'}\n",
        "  Ls ={'Normal':'solid','Infected':'solid','Died':'dashed','Rt':'dashed'}\n",
        "\n",
        "  fig, ax1 = plt.subplots(1,1,figsize=(6,3), dpi= 120)\n",
        "  for plot in module:\n",
        "    if plot !='Rt':\n",
        "      ax1.plot(time, DATA[plot] ,color=colors[plot],lw=1,label=plot,ls=Ls[plot])\n",
        "    else:\n",
        "      ax2 = ax1.twinx()\n",
        "      ax2.plot(time[1:], DATA[plot],color=colors[plot],lw=1,label=plot,ls=Ls[plot])\n",
        "      ax2.set_ylabel('Rt', fontsize=5)\n",
        "      ax2.tick_params(axis='y', rotation=0,labelsize=5 )\n",
        "      \n",
        "    \n",
        "\n",
        "  if 'Rt' in module:\n",
        "      ax2.grid(alpha=.4)\n",
        "  else:\n",
        "    ax1.grid(alpha=.4,axis='y')\n",
        "\n",
        "  ax1.tick_params(axis='x', labelsize=5)\n",
        "  ax1.set_ylabel('Percentage', fontsize=5)\n",
        "  ax1.tick_params(axis='y', rotation=0,labelsize=5 )\n",
        "  ax1.set_xticks(time[::1])\n",
        "  ax1.set_xticklabels(time[::1])\n",
        "  ax1.grid(alpha=.4,axis='x')\n",
        "\n",
        "  fig.tight_layout()\n",
        "\n",
        "  plt.title('Dynamic of Cascade in an Indian Village',fontsize=10)\n",
        "\n",
        "  handles,labels = [],[]\n",
        "  for ax in fig.axes:\n",
        "      for h,l in zip(*ax.get_legend_handles_labels()):\n",
        "          handles.append(h)\n",
        "          labels.append(l)\n",
        "\n",
        "  plt.legend(handles,labels,fontsize=7)\n",
        "  plt.show()\n",
        "  return()"
      ],
      "execution_count": 0,
      "outputs": []
    },
    {
      "cell_type": "markdown",
      "metadata": {
        "id": "S2o550p0l5OL",
        "colab_type": "text"
      },
      "source": [
        "# **Run Your Simulation**\n",
        "\n",
        "In the below example, we create an Erdos-Renyi graph and we run the simulation and plot the outputs."
      ]
    },
    {
      "cell_type": "code",
      "metadata": {
        "id": "EQBsUZM-a-AB",
        "colab_type": "code",
        "outputId": "389429ba-8635-479d-ad38-ec70eaf4dac3",
        "colab": {
          "base_uri": "https://localhost:8080/",
          "height": 34
        }
      },
      "source": [
        "import pickle\n",
        "from google.colab import drive\n",
        "drive.mount('/content/drive')\n",
        "DATA_PATH = \"/content/drive/My Drive/Colab Notebooks/ColabData\"\n",
        "infile = open(DATA_PATH+'/gowalla_Graph','rb')\n",
        "gowalla = pickle.load(infile)"
      ],
      "execution_count": 6,
      "outputs": [
        {
          "output_type": "stream",
          "text": [
            "Drive already mounted at /content/drive; to attempt to forcibly remount, call drive.mount(\"/content/drive\", force_remount=True).\n"
          ],
          "name": "stdout"
        }
      ]
    },
    {
      "cell_type": "code",
      "metadata": {
        "id": "KWQGlDXdElxE",
        "colab_type": "code",
        "outputId": "5d57199a-f543-4bd5-9d1a-f2fc5a2f125e",
        "colab": {
          "base_uri": "https://localhost:8080/",
          "height": 438
        }
      },
      "source": [
        "%%time\n",
        "# Example\n",
        "n = 1000\n",
        "d = 40\n",
        "G = nx.erdos_renyi_graph(n,d/n)\n",
        "# G = gowalla\n",
        "edge_weight = dict(zip(G.edges(),[uniform(0.01,0.1) for x in range(len(G.edges()))]))\n",
        "nx.set_edge_attributes(G,edge_weight,'weight')\n",
        "\n",
        "method = 'Transmission'\n",
        "out = Simulate_SIR_Time (deepcopy(G),Maximum_Time=10000,Seasons=[20,40,60,80],P_seasons = [1,1,1,1],\n",
        "                   Seeds = generateRandSeed(2,G), n_dr=5, q_die=0.2, n_s=2, q_s=0.3, how=method)\n",
        "\n",
        "print('The average R0 is {:0.3f}, and the fraction of Infected people are {:0.3f}, The method was \"{}\"'.format(out[2],out[3],method))\n",
        "\n",
        "plot_simulation_output(Graphsize=G.number_of_nodes(),data = [out[0],out[4]],module=['Infected','Died','Rt'])"
      ],
      "execution_count": 7,
      "outputs": [
        {
          "output_type": "stream",
          "text": [
            "The average R0 is 5.772, and the fraction of Infected people are 0.999, The method was \"Transmission\"\n"
          ],
          "name": "stdout"
        },
        {
          "output_type": "display_data",
          "data": {
            "image/png": "[encoded data removed]",
            "text/plain": [
              "<Figure size 720x360 with 2 Axes>"
            ]
          },
          "metadata": {
            "tags": [],
            "needs_background": "light"
          }
        },
        {
          "output_type": "stream",
          "text": [
            "CPU times: user 775 ms, sys: 116 ms, total: 891 ms\n",
            "Wall time: 783 ms\n"
          ],
          "name": "stdout"
        }
      ]
    },
    {
      "cell_type": "code",
      "metadata": {
        "id": "-1Gx1PdoyEQ8",
        "colab_type": "code",
        "colab": {}
      },
      "source": [
        "########################################"
      ],
      "execution_count": 0,
      "outputs": []
    },
    {
      "cell_type": "code",
      "metadata": {
        "id": "cWVkQTzVb68M",
        "colab_type": "code",
        "outputId": "bc5d8c96-8b9e-4f9b-dead-e600c5494932",
        "colab": {
          "base_uri": "https://localhost:8080/",
          "height": 697
        }
      },
      "source": [
        "# Creating a Graph based on the main network\n",
        "\n",
        "G = gowalla\n",
        "\n",
        "D = list(dict(G.degree()).values())\n",
        "\n",
        "b=10000\n",
        "\n",
        "hist, bins = np.histogram(D, bins=10000)\n",
        "\n",
        "bin_midpoints = bins[:-1] + np.diff(bins)/2\n",
        "cdf = np.cumsum(hist)\n",
        "cdf = cdf / cdf[-1]\n",
        "\n",
        "values = np.random.rand(10000)\n",
        "value_bins = np.searchsorted(cdf, values)\n",
        "random_from_cdf = bin_midpoints[value_bins]\n",
        "\n",
        "Graph = nx.expected_degree_graph(random_from_cdf)\n",
        "edge_weight = dict(zip(Graph.edges(),[uniform(0.01,0.3) for x in range(len(Graph.edges()))]))\n",
        "nx.set_edge_attributes(Graph,edge_weight,'weight')\n",
        "\n",
        "\n",
        "\n",
        "R0 = []\n",
        "Rt = []\n",
        "level_Infected = []\n",
        "level_Normal = []\n",
        "level_Died = []\n",
        "\n",
        "for i in range(40):\n",
        "  S = generateRandSeed(2,Graph)\n",
        "  print(i)\n",
        "  out = Simulate_SIR_Time (deepcopy(Graph),Maximum_Time=1000,Seasons=[20,40,60,80],P_seasons = [1,1,1,1],\n",
        "                   Seeds = S, n_dr=5, q_die=0.2, n_s=2, q_s=0.3, how=\"Transmission\")\n",
        "  level_Infected.append(list(out[0].Infected))\n",
        "  level_Normal.append(list(out[0].Normal))\n",
        "  level_Died.append(list(out[0].Died))\n",
        "  R0.append(out[2])\n",
        "  Rt.append(out[4])\n",
        "\n"
      ],
      "execution_count": 68,
      "outputs": [
        {
          "output_type": "stream",
          "text": [
            "0\n",
            "1\n",
            "2\n",
            "3\n",
            "4\n",
            "5\n",
            "6\n",
            "7\n",
            "8\n",
            "9\n",
            "10\n",
            "11\n",
            "12\n",
            "13\n",
            "14\n",
            "15\n",
            "16\n",
            "17\n",
            "18\n",
            "19\n",
            "20\n",
            "21\n",
            "22\n",
            "23\n",
            "24\n",
            "25\n",
            "26\n",
            "27\n",
            "28\n",
            "29\n",
            "30\n",
            "31\n",
            "32\n",
            "33\n",
            "34\n",
            "35\n",
            "36\n",
            "37\n",
            "38\n",
            "39\n"
          ],
          "name": "stdout"
        }
      ]
    },
    {
      "cell_type": "code",
      "metadata": {
        "id": "dddYxzae5ESE",
        "colab_type": "code",
        "colab": {
          "base_uri": "https://localhost:8080/",
          "height": 439
        },
        "outputId": "fe3fd506-7f9e-4cd9-836b-c4f80fa2ab45"
      },
      "source": [
        "max_len = max([len(x) for x in level_Infected])\n",
        "\n",
        "temp = np.array([x+(max_len-1-len(x))*[np.nan] for x in Rt])\n",
        "Rt_ = np.nanmean(temp,axis=0)\n",
        "\n",
        "temp = np.array([x+(max_len-len(x))*[np.nan] for x in level_Infected])\n",
        "level_Infected_ = np.nanmean(temp,axis=0)\n",
        "\n",
        "temp = np.array([x+(max_len-len(list(x)))*[np.nan] for x in level_Normal])\n",
        "level_Normal_ = np.nanmean(temp,axis=0)\n",
        "\n",
        "temp = np.array([x+(max_len-len(list(x)))*[np.nan] for x in level_Died])\n",
        "level_Died_ = np.nanmean(temp,axis=0)\n",
        "\n",
        "data = pd.DataFrame(data={'time':list(range(max_len)),'Normal':list(level_Normal_),'Infected':list(level_Infected_),'Died':list(level_Died_)})\n",
        "\n",
        "\n",
        "l=[]\n",
        "l.append(data)\n",
        "l.append(Rt_)\n",
        "plot_simulation_output(data = l,Graphsize=10000)\n",
        "\n"
      ],
      "execution_count": 74,
      "outputs": [
        {
          "output_type": "stream",
          "text": [
            "/usr/local/lib/python3.6/dist-packages/ipykernel_launcher.py:4: RuntimeWarning: Mean of empty slice\n",
            "  after removing the cwd from sys.path.\n"
          ],
          "name": "stderr"
        },
        {
          "output_type": "display_data",
          "data": {
            "image/png": "[encoded data removed]",
            "text/plain": [
              "<Figure size 720x360 with 2 Axes>"
            ]
          },
          "metadata": {
            "tags": [],
            "needs_background": "light"
          }
        },
        {
          "output_type": "execute_result",
          "data": {
            "text/plain": [
              "()"
            ]
          },
          "metadata": {
            "tags": []
          },
          "execution_count": 74
        }
      ]
    },
    {
      "cell_type": "code",
      "metadata": {
        "id": "qnH6xekqpnjK",
        "colab_type": "code",
        "colab": {}
      },
      "source": [
        ""
      ],
      "execution_count": 0,
      "outputs": []
    }
  ]
}